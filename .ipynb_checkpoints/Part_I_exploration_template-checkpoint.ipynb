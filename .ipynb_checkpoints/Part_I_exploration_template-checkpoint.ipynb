{
 "cells": [
  {
   "cell_type": "markdown",
   "metadata": {},
   "source": [
    "# Fordgobike Trip Project\n",
    "## by (Patrick Gitau)\n",
    "\n",
    "## Introduction\n",
    "This data set includes information about individual rides made in a bike-sharing system covering the greater San Francisco Bay area.This data set is taken from https://www.fordgobike.com/system-data and represents trips taken by members of the service for month of February of 2019.The info about trips taken by service's members, their types, their age, their gender, stations of starting and ending trips, duration of trips.\n",
    "## Preliminary Wrangling\n"
   ]
  },
  {
   "cell_type": "code",
   "execution_count": 1,
   "metadata": {},
   "outputs": [],
   "source": [
    "# import all packages and set plots to be embedded inline\n",
    "import numpy as np\n",
    "import pandas as pd\n",
    "import matplotlib.pyplot as plt\n",
    "import seaborn as sb\n",
    "import requests\n",
    "\n",
    "%matplotlib inline"
   ]
  },
  {
   "cell_type": "code",
   "execution_count": 2,
   "metadata": {},
   "outputs": [
    {
     "data": {
      "text/html": [
       "<div>\n",
       "<style scoped>\n",
       "    .dataframe tbody tr th:only-of-type {\n",
       "        vertical-align: middle;\n",
       "    }\n",
       "\n",
       "    .dataframe tbody tr th {\n",
       "        vertical-align: top;\n",
       "    }\n",
       "\n",
       "    .dataframe thead th {\n",
       "        text-align: right;\n",
       "    }\n",
       "</style>\n",
       "<table border=\"1\" class=\"dataframe\">\n",
       "  <thead>\n",
       "    <tr style=\"text-align: right;\">\n",
       "      <th></th>\n",
       "      <th>duration_sec</th>\n",
       "      <th>start_time</th>\n",
       "      <th>end_time</th>\n",
       "      <th>start_station_id</th>\n",
       "      <th>start_station_name</th>\n",
       "      <th>start_station_latitude</th>\n",
       "      <th>start_station_longitude</th>\n",
       "      <th>end_station_id</th>\n",
       "      <th>end_station_name</th>\n",
       "      <th>end_station_latitude</th>\n",
       "      <th>end_station_longitude</th>\n",
       "      <th>bike_id</th>\n",
       "      <th>user_type</th>\n",
       "      <th>member_birth_year</th>\n",
       "      <th>member_gender</th>\n",
       "      <th>bike_share_for_all_trip</th>\n",
       "    </tr>\n",
       "  </thead>\n",
       "  <tbody>\n",
       "    <tr>\n",
       "      <th>0</th>\n",
       "      <td>52185</td>\n",
       "      <td>2019-02-28 17:32:10.1450</td>\n",
       "      <td>2019-03-01 08:01:55.9750</td>\n",
       "      <td>21.0</td>\n",
       "      <td>Montgomery St BART Station (Market St at 2nd St)</td>\n",
       "      <td>37.789625</td>\n",
       "      <td>-122.400811</td>\n",
       "      <td>13.0</td>\n",
       "      <td>Commercial St at Montgomery St</td>\n",
       "      <td>37.794231</td>\n",
       "      <td>-122.402923</td>\n",
       "      <td>4902</td>\n",
       "      <td>Customer</td>\n",
       "      <td>1984.0</td>\n",
       "      <td>Male</td>\n",
       "      <td>No</td>\n",
       "    </tr>\n",
       "    <tr>\n",
       "      <th>1</th>\n",
       "      <td>42521</td>\n",
       "      <td>2019-02-28 18:53:21.7890</td>\n",
       "      <td>2019-03-01 06:42:03.0560</td>\n",
       "      <td>23.0</td>\n",
       "      <td>The Embarcadero at Steuart St</td>\n",
       "      <td>37.791464</td>\n",
       "      <td>-122.391034</td>\n",
       "      <td>81.0</td>\n",
       "      <td>Berry St at 4th St</td>\n",
       "      <td>37.775880</td>\n",
       "      <td>-122.393170</td>\n",
       "      <td>2535</td>\n",
       "      <td>Customer</td>\n",
       "      <td>NaN</td>\n",
       "      <td>NaN</td>\n",
       "      <td>No</td>\n",
       "    </tr>\n",
       "    <tr>\n",
       "      <th>2</th>\n",
       "      <td>61854</td>\n",
       "      <td>2019-02-28 12:13:13.2180</td>\n",
       "      <td>2019-03-01 05:24:08.1460</td>\n",
       "      <td>86.0</td>\n",
       "      <td>Market St at Dolores St</td>\n",
       "      <td>37.769305</td>\n",
       "      <td>-122.426826</td>\n",
       "      <td>3.0</td>\n",
       "      <td>Powell St BART Station (Market St at 4th St)</td>\n",
       "      <td>37.786375</td>\n",
       "      <td>-122.404904</td>\n",
       "      <td>5905</td>\n",
       "      <td>Customer</td>\n",
       "      <td>1972.0</td>\n",
       "      <td>Male</td>\n",
       "      <td>No</td>\n",
       "    </tr>\n",
       "    <tr>\n",
       "      <th>3</th>\n",
       "      <td>36490</td>\n",
       "      <td>2019-02-28 17:54:26.0100</td>\n",
       "      <td>2019-03-01 04:02:36.8420</td>\n",
       "      <td>375.0</td>\n",
       "      <td>Grove St at Masonic Ave</td>\n",
       "      <td>37.774836</td>\n",
       "      <td>-122.446546</td>\n",
       "      <td>70.0</td>\n",
       "      <td>Central Ave at Fell St</td>\n",
       "      <td>37.773311</td>\n",
       "      <td>-122.444293</td>\n",
       "      <td>6638</td>\n",
       "      <td>Subscriber</td>\n",
       "      <td>1989.0</td>\n",
       "      <td>Other</td>\n",
       "      <td>No</td>\n",
       "    </tr>\n",
       "    <tr>\n",
       "      <th>4</th>\n",
       "      <td>1585</td>\n",
       "      <td>2019-02-28 23:54:18.5490</td>\n",
       "      <td>2019-03-01 00:20:44.0740</td>\n",
       "      <td>7.0</td>\n",
       "      <td>Frank H Ogawa Plaza</td>\n",
       "      <td>37.804562</td>\n",
       "      <td>-122.271738</td>\n",
       "      <td>222.0</td>\n",
       "      <td>10th Ave at E 15th St</td>\n",
       "      <td>37.792714</td>\n",
       "      <td>-122.248780</td>\n",
       "      <td>4898</td>\n",
       "      <td>Subscriber</td>\n",
       "      <td>1974.0</td>\n",
       "      <td>Male</td>\n",
       "      <td>Yes</td>\n",
       "    </tr>\n",
       "  </tbody>\n",
       "</table>\n",
       "</div>"
      ],
      "text/plain": [
       "   duration_sec                start_time                  end_time  \\\n",
       "0         52185  2019-02-28 17:32:10.1450  2019-03-01 08:01:55.9750   \n",
       "1         42521  2019-02-28 18:53:21.7890  2019-03-01 06:42:03.0560   \n",
       "2         61854  2019-02-28 12:13:13.2180  2019-03-01 05:24:08.1460   \n",
       "3         36490  2019-02-28 17:54:26.0100  2019-03-01 04:02:36.8420   \n",
       "4          1585  2019-02-28 23:54:18.5490  2019-03-01 00:20:44.0740   \n",
       "\n",
       "   start_station_id                                start_station_name  \\\n",
       "0              21.0  Montgomery St BART Station (Market St at 2nd St)   \n",
       "1              23.0                     The Embarcadero at Steuart St   \n",
       "2              86.0                           Market St at Dolores St   \n",
       "3             375.0                           Grove St at Masonic Ave   \n",
       "4               7.0                               Frank H Ogawa Plaza   \n",
       "\n",
       "   start_station_latitude  start_station_longitude  end_station_id  \\\n",
       "0               37.789625              -122.400811            13.0   \n",
       "1               37.791464              -122.391034            81.0   \n",
       "2               37.769305              -122.426826             3.0   \n",
       "3               37.774836              -122.446546            70.0   \n",
       "4               37.804562              -122.271738           222.0   \n",
       "\n",
       "                               end_station_name  end_station_latitude  \\\n",
       "0                Commercial St at Montgomery St             37.794231   \n",
       "1                            Berry St at 4th St             37.775880   \n",
       "2  Powell St BART Station (Market St at 4th St)             37.786375   \n",
       "3                        Central Ave at Fell St             37.773311   \n",
       "4                         10th Ave at E 15th St             37.792714   \n",
       "\n",
       "   end_station_longitude  bike_id   user_type  member_birth_year  \\\n",
       "0            -122.402923     4902    Customer             1984.0   \n",
       "1            -122.393170     2535    Customer                NaN   \n",
       "2            -122.404904     5905    Customer             1972.0   \n",
       "3            -122.444293     6638  Subscriber             1989.0   \n",
       "4            -122.248780     4898  Subscriber             1974.0   \n",
       "\n",
       "  member_gender bike_share_for_all_trip  \n",
       "0          Male                      No  \n",
       "1           NaN                      No  \n",
       "2          Male                      No  \n",
       "3         Other                      No  \n",
       "4          Male                     Yes  "
      ]
     },
     "execution_count": 2,
     "metadata": {},
     "output_type": "execute_result"
    }
   ],
   "source": [
    "# load in the dataset into a pandas dataframe, print statistics\n",
    "fordgobike= pd.read_csv(r\"C:\\Users\\pgita\\Desktop\\JUPYTER CLASS\\Udacity class\\Project\\Visualization project\\Fordgobike project\\First submittion\\201902-fordgobike-tripdata.csv\")\n",
    "fordgobike.head()"
   ]
  },
  {
   "cell_type": "code",
   "execution_count": 3,
   "metadata": {},
   "outputs": [
    {
     "name": "stdout",
     "output_type": "stream",
     "text": [
      "(183412, 16)\n",
      "duration_sec                 int64\n",
      "start_time                  object\n",
      "end_time                    object\n",
      "start_station_id           float64\n",
      "start_station_name          object\n",
      "start_station_latitude     float64\n",
      "start_station_longitude    float64\n",
      "end_station_id             float64\n",
      "end_station_name            object\n",
      "end_station_latitude       float64\n",
      "end_station_longitude      float64\n",
      "bike_id                      int64\n",
      "user_type                   object\n",
      "member_birth_year          float64\n",
      "member_gender               object\n",
      "bike_share_for_all_trip     object\n",
      "dtype: object\n",
      "        duration_sec  start_station_id  start_station_latitude  \\\n",
      "count  183412.000000     183215.000000           183412.000000   \n",
      "mean      726.078435        138.590427               37.771223   \n",
      "std      1794.389780        111.778864                0.099581   \n",
      "min        61.000000          3.000000               37.317298   \n",
      "25%       325.000000         47.000000               37.770083   \n",
      "50%       514.000000        104.000000               37.780760   \n",
      "75%       796.000000        239.000000               37.797280   \n",
      "max     85444.000000        398.000000               37.880222   \n",
      "\n",
      "       start_station_longitude  end_station_id  end_station_latitude  \\\n",
      "count            183412.000000   183215.000000         183412.000000   \n",
      "mean               -122.352664      136.249123             37.771427   \n",
      "std                   0.117097      111.515131              0.099490   \n",
      "min                -122.453704        3.000000             37.317298   \n",
      "25%                -122.412408       44.000000             37.770407   \n",
      "50%                -122.398285      100.000000             37.781010   \n",
      "75%                -122.286533      235.000000             37.797320   \n",
      "max                -121.874119      398.000000             37.880222   \n",
      "\n",
      "       end_station_longitude        bike_id  member_birth_year  \n",
      "count          183412.000000  183412.000000      175147.000000  \n",
      "mean             -122.352250    4472.906375        1984.806437  \n",
      "std                 0.116673    1664.383394          10.116689  \n",
      "min              -122.453704      11.000000        1878.000000  \n",
      "25%              -122.411726    3777.000000        1980.000000  \n",
      "50%              -122.398279    4958.000000        1987.000000  \n",
      "75%              -122.288045    5502.000000        1992.000000  \n",
      "max              -121.874119    6645.000000        2001.000000  \n",
      "<class 'pandas.core.frame.DataFrame'>\n",
      "RangeIndex: 183412 entries, 0 to 183411\n",
      "Data columns (total 16 columns):\n",
      " #   Column                   Non-Null Count   Dtype  \n",
      "---  ------                   --------------   -----  \n",
      " 0   duration_sec             183412 non-null  int64  \n",
      " 1   start_time               183412 non-null  object \n",
      " 2   end_time                 183412 non-null  object \n",
      " 3   start_station_id         183215 non-null  float64\n",
      " 4   start_station_name       183215 non-null  object \n",
      " 5   start_station_latitude   183412 non-null  float64\n",
      " 6   start_station_longitude  183412 non-null  float64\n",
      " 7   end_station_id           183215 non-null  float64\n",
      " 8   end_station_name         183215 non-null  object \n",
      " 9   end_station_latitude     183412 non-null  float64\n",
      " 10  end_station_longitude    183412 non-null  float64\n",
      " 11  bike_id                  183412 non-null  int64  \n",
      " 12  user_type                183412 non-null  object \n",
      " 13  member_birth_year        175147 non-null  float64\n",
      " 14  member_gender            175147 non-null  object \n",
      " 15  bike_share_for_all_trip  183412 non-null  object \n",
      "dtypes: float64(7), int64(2), object(7)\n",
      "memory usage: 22.4+ MB\n",
      "None\n"
     ]
    }
   ],
   "source": [
    "print(fordgobike.shape)\n",
    "print(fordgobike.dtypes)\n",
    "print(fordgobike.describe())\n",
    "print(fordgobike.info())"
   ]
  },
  {
   "cell_type": "code",
   "execution_count": 4,
   "metadata": {},
   "outputs": [],
   "source": [
    "# Make copies of original pieces of data\n",
    "fordgobike_clean = fordgobike.copy()"
   ]
  },
  {
   "cell_type": "markdown",
   "metadata": {},
   "source": [
    "> Drop some of the column that are not to be used; start_time, end_time, start_station_id, start_station_name, end_station_name, end_station_id, start_station_latitude, start_station_longitude, end_station_latitude, end_station_longitude and bike_id."
   ]
  },
  {
   "cell_type": "code",
   "execution_count": 5,
   "metadata": {},
   "outputs": [
    {
     "data": {
      "text/html": [
       "<div>\n",
       "<style scoped>\n",
       "    .dataframe tbody tr th:only-of-type {\n",
       "        vertical-align: middle;\n",
       "    }\n",
       "\n",
       "    .dataframe tbody tr th {\n",
       "        vertical-align: top;\n",
       "    }\n",
       "\n",
       "    .dataframe thead th {\n",
       "        text-align: right;\n",
       "    }\n",
       "</style>\n",
       "<table border=\"1\" class=\"dataframe\">\n",
       "  <thead>\n",
       "    <tr style=\"text-align: right;\">\n",
       "      <th></th>\n",
       "      <th>duration_sec</th>\n",
       "      <th>user_type</th>\n",
       "      <th>member_birth_year</th>\n",
       "      <th>member_gender</th>\n",
       "      <th>bike_share_for_all_trip</th>\n",
       "    </tr>\n",
       "  </thead>\n",
       "  <tbody>\n",
       "    <tr>\n",
       "      <th>10285</th>\n",
       "      <td>3441</td>\n",
       "      <td>Subscriber</td>\n",
       "      <td>1993.0</td>\n",
       "      <td>Female</td>\n",
       "      <td>Yes</td>\n",
       "    </tr>\n",
       "    <tr>\n",
       "      <th>124463</th>\n",
       "      <td>492</td>\n",
       "      <td>Subscriber</td>\n",
       "      <td>1989.0</td>\n",
       "      <td>Male</td>\n",
       "      <td>No</td>\n",
       "    </tr>\n",
       "    <tr>\n",
       "      <th>18311</th>\n",
       "      <td>1004</td>\n",
       "      <td>Subscriber</td>\n",
       "      <td>1964.0</td>\n",
       "      <td>Female</td>\n",
       "      <td>No</td>\n",
       "    </tr>\n",
       "    <tr>\n",
       "      <th>47881</th>\n",
       "      <td>636</td>\n",
       "      <td>Subscriber</td>\n",
       "      <td>1994.0</td>\n",
       "      <td>Male</td>\n",
       "      <td>No</td>\n",
       "    </tr>\n",
       "    <tr>\n",
       "      <th>65405</th>\n",
       "      <td>555</td>\n",
       "      <td>Subscriber</td>\n",
       "      <td>1989.0</td>\n",
       "      <td>Female</td>\n",
       "      <td>No</td>\n",
       "    </tr>\n",
       "  </tbody>\n",
       "</table>\n",
       "</div>"
      ],
      "text/plain": [
       "        duration_sec   user_type  member_birth_year member_gender  \\\n",
       "10285           3441  Subscriber             1993.0        Female   \n",
       "124463           492  Subscriber             1989.0          Male   \n",
       "18311           1004  Subscriber             1964.0        Female   \n",
       "47881            636  Subscriber             1994.0          Male   \n",
       "65405            555  Subscriber             1989.0        Female   \n",
       "\n",
       "       bike_share_for_all_trip  \n",
       "10285                      Yes  \n",
       "124463                      No  \n",
       "18311                       No  \n",
       "47881                       No  \n",
       "65405                       No  "
      ]
     },
     "execution_count": 5,
     "metadata": {},
     "output_type": "execute_result"
    }
   ],
   "source": [
    "# removing some of the columns\n",
    "columns_to_drop = ['start_time', 'end_time','end_station_name', 'start_station_id', 'start_station_name','end_station_id', 'start_station_latitude', 'start_station_longitude', 'end_station_latitude', 'end_station_longitude','bike_id']\n",
    "fordgobike_clean.drop(labels=columns_to_drop, axis=\"columns\", inplace=True)\n",
    "fordgobike_clean.sample(5)"
   ]
  },
  {
   "cell_type": "code",
   "execution_count": 6,
   "metadata": {},
   "outputs": [
    {
     "name": "stdout",
     "output_type": "stream",
     "text": [
      "<class 'pandas.core.frame.DataFrame'>\n",
      "RangeIndex: 183412 entries, 0 to 183411\n",
      "Data columns (total 5 columns):\n",
      " #   Column                   Non-Null Count   Dtype  \n",
      "---  ------                   --------------   -----  \n",
      " 0   duration_sec             183412 non-null  int64  \n",
      " 1   user_type                183412 non-null  object \n",
      " 2   member_birth_year        175147 non-null  float64\n",
      " 3   member_gender            175147 non-null  object \n",
      " 4   bike_share_for_all_trip  183412 non-null  object \n",
      "dtypes: float64(1), int64(1), object(3)\n",
      "memory usage: 7.0+ MB\n"
     ]
    }
   ],
   "source": [
    "fordgobike_clean.info()"
   ]
  },
  {
   "cell_type": "markdown",
   "metadata": {},
   "source": [
    " > Changed the member_birth year to the age of the member using 2019 as the current year subtracted by member_birth_year"
   ]
  },
  {
   "cell_type": "code",
   "execution_count": 7,
   "metadata": {},
   "outputs": [
    {
     "data": {
      "text/html": [
       "<div>\n",
       "<style scoped>\n",
       "    .dataframe tbody tr th:only-of-type {\n",
       "        vertical-align: middle;\n",
       "    }\n",
       "\n",
       "    .dataframe tbody tr th {\n",
       "        vertical-align: top;\n",
       "    }\n",
       "\n",
       "    .dataframe thead th {\n",
       "        text-align: right;\n",
       "    }\n",
       "</style>\n",
       "<table border=\"1\" class=\"dataframe\">\n",
       "  <thead>\n",
       "    <tr style=\"text-align: right;\">\n",
       "      <th></th>\n",
       "      <th>duration_sec</th>\n",
       "      <th>user_type</th>\n",
       "      <th>member_birth_year</th>\n",
       "      <th>member_gender</th>\n",
       "      <th>bike_share_for_all_trip</th>\n",
       "      <th>member_age</th>\n",
       "    </tr>\n",
       "  </thead>\n",
       "  <tbody>\n",
       "    <tr>\n",
       "      <th>77096</th>\n",
       "      <td>847</td>\n",
       "      <td>Subscriber</td>\n",
       "      <td>1993.0</td>\n",
       "      <td>Male</td>\n",
       "      <td>No</td>\n",
       "      <td>26.0</td>\n",
       "    </tr>\n",
       "    <tr>\n",
       "      <th>81214</th>\n",
       "      <td>779</td>\n",
       "      <td>Subscriber</td>\n",
       "      <td>1945.0</td>\n",
       "      <td>Male</td>\n",
       "      <td>No</td>\n",
       "      <td>74.0</td>\n",
       "    </tr>\n",
       "    <tr>\n",
       "      <th>151630</th>\n",
       "      <td>155</td>\n",
       "      <td>Subscriber</td>\n",
       "      <td>1963.0</td>\n",
       "      <td>Male</td>\n",
       "      <td>Yes</td>\n",
       "      <td>56.0</td>\n",
       "    </tr>\n",
       "    <tr>\n",
       "      <th>144824</th>\n",
       "      <td>90</td>\n",
       "      <td>Subscriber</td>\n",
       "      <td>1999.0</td>\n",
       "      <td>Male</td>\n",
       "      <td>No</td>\n",
       "      <td>20.0</td>\n",
       "    </tr>\n",
       "    <tr>\n",
       "      <th>16836</th>\n",
       "      <td>821</td>\n",
       "      <td>Customer</td>\n",
       "      <td>1984.0</td>\n",
       "      <td>Male</td>\n",
       "      <td>No</td>\n",
       "      <td>35.0</td>\n",
       "    </tr>\n",
       "  </tbody>\n",
       "</table>\n",
       "</div>"
      ],
      "text/plain": [
       "        duration_sec   user_type  member_birth_year member_gender  \\\n",
       "77096            847  Subscriber             1993.0          Male   \n",
       "81214            779  Subscriber             1945.0          Male   \n",
       "151630           155  Subscriber             1963.0          Male   \n",
       "144824            90  Subscriber             1999.0          Male   \n",
       "16836            821    Customer             1984.0          Male   \n",
       "\n",
       "       bike_share_for_all_trip  member_age  \n",
       "77096                       No        26.0  \n",
       "81214                       No        74.0  \n",
       "151630                     Yes        56.0  \n",
       "144824                      No        20.0  \n",
       "16836                       No        35.0  "
      ]
     },
     "execution_count": 7,
     "metadata": {},
     "output_type": "execute_result"
    }
   ],
   "source": [
    "# Subtracting 2019 with member_birth_year to get age of the member\n",
    "fordgobike_clean['member_age'] = 2019-fordgobike_clean['member_birth_year']\n",
    "fordgobike_clean.sample(5)"
   ]
  },
  {
   "cell_type": "markdown",
   "metadata": {},
   "source": [
    "> Some of the bikers don't have the observation for the member_birth_year and member_gender thus drop the missing data."
   ]
  },
  {
   "cell_type": "code",
   "execution_count": 8,
   "metadata": {},
   "outputs": [
    {
     "name": "stdout",
     "output_type": "stream",
     "text": [
      "False    175147\n",
      "True       8265\n",
      "Name: member_birth_year, dtype: int64\n",
      "False    175147\n",
      "True       8265\n",
      "Name: member_gender, dtype: int64\n"
     ]
    }
   ],
   "source": [
    "# Getting member_gender and member_birth_year with missing data\n",
    "print(fordgobike_clean['member_birth_year'].isnull().value_counts())\n",
    "print(fordgobike_clean['member_gender'].isnull().value_counts())"
   ]
  },
  {
   "cell_type": "code",
   "execution_count": 9,
   "metadata": {
    "scrolled": true
   },
   "outputs": [
    {
     "name": "stdout",
     "output_type": "stream",
     "text": [
      "<class 'pandas.core.frame.DataFrame'>\n",
      "Int64Index: 175147 entries, 0 to 183411\n",
      "Data columns (total 6 columns):\n",
      " #   Column                   Non-Null Count   Dtype  \n",
      "---  ------                   --------------   -----  \n",
      " 0   duration_sec             175147 non-null  int64  \n",
      " 1   user_type                175147 non-null  object \n",
      " 2   member_birth_year        175147 non-null  float64\n",
      " 3   member_gender            175147 non-null  object \n",
      " 4   bike_share_for_all_trip  175147 non-null  object \n",
      " 5   member_age               175147 non-null  float64\n",
      "dtypes: float64(2), int64(1), object(3)\n",
      "memory usage: 9.4+ MB\n"
     ]
    }
   ],
   "source": [
    "# Dropping the missing values\n",
    "fordgobike_clean.dropna(inplace=True)\n",
    "fordgobike_clean.info()"
   ]
  },
  {
   "cell_type": "code",
   "execution_count": 10,
   "metadata": {},
   "outputs": [
    {
     "data": {
      "text/plain": [
       "dtype('int32')"
      ]
     },
     "execution_count": 10,
     "metadata": {},
     "output_type": "execute_result"
    }
   ],
   "source": [
    "# changing the age data type from float to int.\n",
    "fordgobike_clean['member_age']=fordgobike_clean['member_age'].astype(int)\n",
    "fordgobike_clean['member_age'].dtype"
   ]
  },
  {
   "cell_type": "markdown",
   "metadata": {},
   "source": [
    "> Work with a duration range of 61 to 4,000"
   ]
  },
  {
   "cell_type": "code",
   "execution_count": 11,
   "metadata": {
    "scrolled": true
   },
   "outputs": [
    {
     "data": {
      "text/plain": [
       "(173947, 6)"
      ]
     },
     "execution_count": 11,
     "metadata": {},
     "output_type": "execute_result"
    }
   ],
   "source": [
    "rows_to_drop=fordgobike_clean.query('duration_sec > 4000').index\n",
    "fordgobike_clean.drop(labels=rows_to_drop, axis=\"rows\", inplace=True)\n",
    "fordgobike_clean.shape"
   ]
  },
  {
   "cell_type": "markdown",
   "metadata": {},
   "source": [
    "### What is the structure of your dataset?\n",
    "There are 183,412 biker in the dataset with  16 columns. 8,265 observation are dropped due to missing member_birth_year and member_gender. Also, 11 columns are drop that won't be used in the visualization. For this date analysis, we are only going to deal with duration time of 61 to 4,000 thus, leaving the data to consist of 173,947 bikers and 6 variables. Rows having a duration time greater than 4,000 were dropped as they are outliers to the dataset. The data coinsist of both numerical and categorical data;<br>\n",
    "Categorical<br>\n",
    "    > Nominal data type: user_type, member_birth_year, member_gender and bike_share_for_all_trip <br>\n",
    "Numeric<br>\n",
    "    > Interval data: duration_sec, start_station_latitude, start_station_longitude,\tend_station_latitude, start_station_id, end_station_id, bike_id, member_birth_year and\tend_station_longitude.<br>\n",
    "Discrete: start_station_id, end_station_id, bike_id, member_birth_year<br>\n",
    "Continuous: duration_sec, start_station_latitude, start_station_longitude and end_station_latitude\n",
    "### Main feature(s) of interest \n",
    "I'm most interested in figuring out what features have a relationship to the period the trip takes.\n",
    "\n",
    "### Features in the dataset that will support the investigation\n",
    "I expect that duration will have a relationship with the member_gender, user_type, member_birth_year and bike_share_for_all_trip."
   ]
  },
  {
   "cell_type": "markdown",
   "metadata": {},
   "source": [
    "### 1.The distribution for the main variable: duration"
   ]
  },
  {
   "cell_type": "code",
   "execution_count": 12,
   "metadata": {
    "scrolled": true
   },
   "outputs": [
    {
     "data": {
      "text/plain": [
       "count    173947.000000\n",
       "mean        622.143768\n",
       "std         455.898777\n",
       "min          61.000000\n",
       "25%         322.000000\n",
       "50%         508.000000\n",
       "75%         781.000000\n",
       "max        3999.000000\n",
       "Name: duration_sec, dtype: float64"
      ]
     },
     "execution_count": 12,
     "metadata": {},
     "output_type": "execute_result"
    }
   ],
   "source": [
    "fordgobike_clean['duration_sec'].describe()"
   ]
  },
  {
   "cell_type": "code",
   "execution_count": 13,
   "metadata": {},
   "outputs": [
    {
     "data": {
      "image/png": "[encoded data removed]",
      "text/plain": [
       "<Figure size 576x360 with 1 Axes>"
      ]
     },
     "metadata": {
      "needs_background": "light"
     },
     "output_type": "display_data"
    }
   ],
   "source": [
    "# start with a standard-scaled plot\n",
    "def standard_scaled_plot (size,variable):\n",
    "    binsize = size\n",
    "    bins = np.arange(0, fordgobike_clean[variable].max()+binsize, binsize)\n",
    "    plt.figure(figsize=[8, 5])\n",
    "    plt.hist(data = fordgobike_clean, x = variable, bins = bins)\n",
    "# plotting\n",
    "standard_scaled_plot (100, \"duration_sec\")\n",
    "plt.xlim([0,4000])\n",
    "plt.xlabel('Duration Sec (Sec)')\n",
    "plt.title('Duration Distribution')\n",
    "plt.show()"
   ]
  },
  {
   "cell_type": "markdown",
   "metadata": {},
   "source": [
    "**A long tail in the distribution**"
   ]
  },
  {
   "cell_type": "code",
   "execution_count": 14,
   "metadata": {},
   "outputs": [
    {
     "data": {
      "image/png": "[encoded data removed]",
      "text/plain": [
       "<Figure size 576x360 with 1 Axes>"
      ]
     },
     "metadata": {
      "needs_background": "light"
     },
     "output_type": "display_data"
    }
   ],
   "source": [
    "# there's a long tail in the distribution, so let's put it on a log scale instead\n",
    "def log_scale_plot (logsize, variable):\n",
    "    log_binsize = logsize\n",
    "    bins = 10 ** np.arange(1, np.log10(fordgobike_clean[variable].max())+log_binsize, log_binsize)\n",
    "    plt.figure(figsize=[8, 5])\n",
    "    plt.hist(data = fordgobike_clean, x = variable, bins = bins)\n",
    "    plt.xscale('log')\n",
    "\n",
    "# Plotting\n",
    "log_scale_plot(0.1,'duration_sec')\n",
    "plt.xlim([50,4000])\n",
    "plt.xticks([100, 200, 400, 1e3, 2e3, 4e3], [100, 200, 400, '1k', '2k', '4k'])\n",
    "plt.xlabel('Duration Sec (Sec)')\n",
    "plt.ylabel('Members')\n",
    "plt.title('Duration Log Distribution')\n",
    "plt.show()"
   ]
  },
  {
   "cell_type": "markdown",
   "metadata": {},
   "source": [
    "**log-scale have the duration distribution as unimodal**"
   ]
  },
  {
   "cell_type": "markdown",
   "metadata": {},
   "source": [
    "Duration has a long-tailed distribution, with a lot of bikers on taking on the low duration end and few on the high duration end\n",
    "<br> \n",
    "When plotted on a log-scale, the duration distribution is bimodal, with the highest peak between 400 and 800."
   ]
  },
  {
   "cell_type": "markdown",
   "metadata": {},
   "source": [
    "### 2. The distribution for the second numeric variable: Member age"
   ]
  },
  {
   "cell_type": "code",
   "execution_count": 15,
   "metadata": {},
   "outputs": [
    {
     "data": {
      "text/plain": [
       "count    173947.000000\n",
       "mean         34.188862\n",
       "std          10.115142\n",
       "min          18.000000\n",
       "25%          27.000000\n",
       "50%          32.000000\n",
       "75%          39.000000\n",
       "max         141.000000\n",
       "Name: member_age, dtype: float64"
      ]
     },
     "execution_count": 15,
     "metadata": {},
     "output_type": "execute_result"
    }
   ],
   "source": [
    "fordgobike_clean['member_age'].describe()"
   ]
  },
  {
   "cell_type": "code",
   "execution_count": 16,
   "metadata": {},
   "outputs": [
    {
     "data": {
      "image/png": "[encoded data removed]",
      "text/plain": [
       "<Figure size 576x360 with 1 Axes>"
      ]
     },
     "metadata": {
      "needs_background": "light"
     },
     "output_type": "display_data"
    }
   ],
   "source": [
    "# plotting\n",
    "standard_scaled_plot (5,\"member_age\")\n",
    "plt.xlim([5,100])\n",
    "plt.xlabel('Member Age(Years)')\n",
    "plt.title('Member Age Distribution')\n",
    "plt.show()"
   ]
  },
  {
   "cell_type": "code",
   "execution_count": 17,
   "metadata": {},
   "outputs": [
    {
     "data": {
      "image/png": "[encoded data removed]",
      "text/plain": [
       "<Figure size 576x360 with 1 Axes>"
      ]
     },
     "metadata": {
      "needs_background": "light"
     },
     "output_type": "display_data"
    }
   ],
   "source": [
    "# Plotting\n",
    "log_scale_plot(.05,'member_age')\n",
    "plt.xlim([15,100])\n",
    "plt.xticks([20,25,30,40, 50,60, 80, 100],[20, 25, 30,40, 50,60, 80, 100])\n",
    "plt.xlabel('Member Age(Years)')\n",
    "plt.title('Member Age Log Distribution')\n",
    "plt.show()"
   ]
  },
  {
   "cell_type": "markdown",
   "metadata": {},
   "source": [
    "**Most of the members are between the age of 20 and 40 years.**<br>\n",
    "With the age variable showing a long tail in the distribution and the log-scale duration distribution is bimodal, with the highest peak between 20 and 40."
   ]
  },
  {
   "cell_type": "markdown",
   "metadata": {},
   "source": [
    "**Grouping of the ages to certain levels; Old,Adult, Teen**"
   ]
  },
  {
   "cell_type": "code",
   "execution_count": 92,
   "metadata": {},
   "outputs": [
    {
     "data": {
      "text/html": [
       "<div>\n",
       "<style scoped>\n",
       "    .dataframe tbody tr th:only-of-type {\n",
       "        vertical-align: middle;\n",
       "    }\n",
       "\n",
       "    .dataframe tbody tr th {\n",
       "        vertical-align: top;\n",
       "    }\n",
       "\n",
       "    .dataframe thead th {\n",
       "        text-align: right;\n",
       "    }\n",
       "</style>\n",
       "<table border=\"1\" class=\"dataframe\">\n",
       "  <thead>\n",
       "    <tr style=\"text-align: right;\">\n",
       "      <th></th>\n",
       "      <th>duration_sec</th>\n",
       "      <th>user_type</th>\n",
       "      <th>member_birth_year</th>\n",
       "      <th>member_gender</th>\n",
       "      <th>bike_share_for_all_trip</th>\n",
       "      <th>member_age</th>\n",
       "      <th>member_age_groups</th>\n",
       "      <th>bike_share</th>\n",
       "      <th>type</th>\n",
       "    </tr>\n",
       "  </thead>\n",
       "  <tbody>\n",
       "    <tr>\n",
       "      <th>74324</th>\n",
       "      <td>320</td>\n",
       "      <td>Subscriber</td>\n",
       "      <td>1978.0</td>\n",
       "      <td>Male</td>\n",
       "      <td>No</td>\n",
       "      <td>41</td>\n",
       "      <td>Adult</td>\n",
       "      <td>0</td>\n",
       "      <td>1</td>\n",
       "    </tr>\n",
       "    <tr>\n",
       "      <th>37916</th>\n",
       "      <td>427</td>\n",
       "      <td>Subscriber</td>\n",
       "      <td>1988.0</td>\n",
       "      <td>Male</td>\n",
       "      <td>No</td>\n",
       "      <td>31</td>\n",
       "      <td>Teen</td>\n",
       "      <td>0</td>\n",
       "      <td>1</td>\n",
       "    </tr>\n",
       "    <tr>\n",
       "      <th>154495</th>\n",
       "      <td>576</td>\n",
       "      <td>Subscriber</td>\n",
       "      <td>1987.0</td>\n",
       "      <td>Male</td>\n",
       "      <td>No</td>\n",
       "      <td>32</td>\n",
       "      <td>Teen</td>\n",
       "      <td>0</td>\n",
       "      <td>1</td>\n",
       "    </tr>\n",
       "    <tr>\n",
       "      <th>104057</th>\n",
       "      <td>579</td>\n",
       "      <td>Subscriber</td>\n",
       "      <td>1989.0</td>\n",
       "      <td>Male</td>\n",
       "      <td>No</td>\n",
       "      <td>30</td>\n",
       "      <td>Teen</td>\n",
       "      <td>0</td>\n",
       "      <td>1</td>\n",
       "    </tr>\n",
       "    <tr>\n",
       "      <th>149502</th>\n",
       "      <td>403</td>\n",
       "      <td>Subscriber</td>\n",
       "      <td>1996.0</td>\n",
       "      <td>Male</td>\n",
       "      <td>No</td>\n",
       "      <td>23</td>\n",
       "      <td>Teen</td>\n",
       "      <td>0</td>\n",
       "      <td>1</td>\n",
       "    </tr>\n",
       "  </tbody>\n",
       "</table>\n",
       "</div>"
      ],
      "text/plain": [
       "        duration_sec   user_type  member_birth_year member_gender  \\\n",
       "74324            320  Subscriber             1978.0          Male   \n",
       "37916            427  Subscriber             1988.0          Male   \n",
       "154495           576  Subscriber             1987.0          Male   \n",
       "104057           579  Subscriber             1989.0          Male   \n",
       "149502           403  Subscriber             1996.0          Male   \n",
       "\n",
       "       bike_share_for_all_trip  member_age member_age_groups  bike_share  type  \n",
       "74324                       No          41             Adult           0     1  \n",
       "37916                       No          31              Teen           0     1  \n",
       "154495                      No          32              Teen           0     1  \n",
       "104057                      No          30              Teen           0     1  \n",
       "149502                      No          23              Teen           0     1  "
      ]
     },
     "execution_count": 92,
     "metadata": {},
     "output_type": "execute_result"
    }
   ],
   "source": [
    "# Bin edges that will be used to \"cut\" the data into groups\n",
    "bin_edges = [17.0, 35.0, 60.0, 141.0]\n",
    "\n",
    "# Labels for the four Age groups level\n",
    "bin_names = ['Teen', 'Adult', 'Old']\n",
    "\n",
    "# Creates Ages groups level column\n",
    "fordgobike_clean['member_age_groups'] = pd.cut(fordgobike_clean['member_age'], bin_edges, labels=bin_names, right=True)\n",
    "\n",
    "# Checks for successful creation of this column\n",
    "fordgobike_clean.sample(5)\n"
   ]
  },
  {
   "cell_type": "markdown",
   "metadata": {},
   "source": [
    "**What are the proportions of the customers and subscribers members?**"
   ]
  },
  {
   "cell_type": "code",
   "execution_count": 18,
   "metadata": {},
   "outputs": [
    {
     "data": {
      "text/html": [
       "<div>\n",
       "<style scoped>\n",
       "    .dataframe tbody tr th:only-of-type {\n",
       "        vertical-align: middle;\n",
       "    }\n",
       "\n",
       "    .dataframe tbody tr th {\n",
       "        vertical-align: top;\n",
       "    }\n",
       "\n",
       "    .dataframe thead th {\n",
       "        text-align: right;\n",
       "    }\n",
       "</style>\n",
       "<table border=\"1\" class=\"dataframe\">\n",
       "  <thead>\n",
       "    <tr style=\"text-align: right;\">\n",
       "      <th></th>\n",
       "      <th>user_type</th>\n",
       "    </tr>\n",
       "  </thead>\n",
       "  <tbody>\n",
       "    <tr>\n",
       "      <th>Subscriber</th>\n",
       "      <td>157928</td>\n",
       "    </tr>\n",
       "    <tr>\n",
       "      <th>Customer</th>\n",
       "      <td>16019</td>\n",
       "    </tr>\n",
       "  </tbody>\n",
       "</table>\n",
       "</div>"
      ],
      "text/plain": [
       "            user_type\n",
       "Subscriber     157928\n",
       "Customer        16019"
      ]
     },
     "execution_count": 18,
     "metadata": {},
     "output_type": "execute_result"
    },
    {
     "data": {
      "image/png": "[encoded data removed]",
      "text/plain": [
       "<Figure size 432x288 with 1 Axes>"
      ]
     },
     "metadata": {},
     "output_type": "display_data"
    }
   ],
   "source": [
    "#Creating a formula for pie plotting\n",
    "def pie_plot(x):\n",
    "    pie=plt.pie(x,labels = x.index, startangle = 90, counterclock = False, autopct= '%1.0f%%');\n",
    "    rtf=pd.DataFrame(x)\n",
    "    return pie, rtf\n",
    "#plotting\n",
    "user_type_counts = fordgobike_clean['user_type'].value_counts()\n",
    "plt.title('Proportion of User_types for the bikers')\n",
    "pie, rtf = pie_plot(user_type_counts)\n",
    "rtf "
   ]
  },
  {
   "cell_type": "markdown",
   "metadata": {},
   "source": [
    "> Most of the bikers in the dataset are subscribers (91%) while only 9% are customer"
   ]
  },
  {
   "cell_type": "markdown",
   "metadata": {},
   "source": [
    "**Getting an idea of all ordinal variable**"
   ]
  },
  {
   "cell_type": "code",
   "execution_count": 97,
   "metadata": {},
   "outputs": [
    {
     "data": {
      "image/png": "[encoded data removed]",
      "text/plain": [
       "<Figure size 576x360 with 4 Axes>"
      ]
     },
     "metadata": {
      "needs_background": "light"
     },
     "output_type": "display_data"
    }
   ],
   "source": [
    "# let's plot all categorical variable to get an idea of each ordinal variable's distribution.\n",
    "fig, ax = plt.subplots(ncols=4, sharey='all', figsize = [8,5])\n",
    "plt.yticks([2e4, 4e4, 6e4, 8e4, 1e5, 12e4, 14e4, 16e4], ['2k', '4k', '6k', '8k', '10k', '12k', '14k', '16k'])\n",
    "label = 'Count for all members characteristics'\n",
    "plt.title(label, loc='right')\n",
    "\n",
    "default_color = sb.color_palette()[0]\n",
    "sb.countplot(data = fordgobike_clean, x = 'member_gender', color = default_color, ax = ax[0])\n",
    "sb.countplot(data = fordgobike_clean, x = 'bike_share_for_all_trip', color = default_color, ax = ax[1])\n",
    "sb.countplot(data = fordgobike_clean, x = 'user_type', color = default_color, ax = ax[2])\n",
    "sb.countplot(data = fordgobike_clean, x = 'member_age_groups', color = default_color, ax = ax[3])\n",
    "plt.show()"
   ]
  },
  {
   "cell_type": "markdown",
   "metadata": {},
   "source": [
    "> The bikers are mostly composed of males who are approximately triple the number of females.<br>\n",
    "> There was no much bike share through the trip.<br>\n",
    "> Teen are the greatest in number followed by adults and lastly old"
   ]
  },
  {
   "cell_type": "markdown",
   "metadata": {},
   "source": [
    "**Number count for the age group**"
   ]
  },
  {
   "cell_type": "code",
   "execution_count": 21,
   "metadata": {},
   "outputs": [
    {
     "data": {
      "text/html": [
       "<div>\n",
       "<style scoped>\n",
       "    .dataframe tbody tr th:only-of-type {\n",
       "        vertical-align: middle;\n",
       "    }\n",
       "\n",
       "    .dataframe tbody tr th {\n",
       "        vertical-align: top;\n",
       "    }\n",
       "\n",
       "    .dataframe thead th {\n",
       "        text-align: right;\n",
       "    }\n",
       "</style>\n",
       "<table border=\"1\" class=\"dataframe\">\n",
       "  <thead>\n",
       "    <tr style=\"text-align: right;\">\n",
       "      <th></th>\n",
       "      <th>member_age_groups</th>\n",
       "    </tr>\n",
       "  </thead>\n",
       "  <tbody>\n",
       "    <tr>\n",
       "      <th>Teen</th>\n",
       "      <td>113435</td>\n",
       "    </tr>\n",
       "    <tr>\n",
       "      <th>Adult</th>\n",
       "      <td>57005</td>\n",
       "    </tr>\n",
       "    <tr>\n",
       "      <th>Old</th>\n",
       "      <td>3507</td>\n",
       "    </tr>\n",
       "  </tbody>\n",
       "</table>\n",
       "</div>"
      ],
      "text/plain": [
       "       member_age_groups\n",
       "Teen              113435\n",
       "Adult              57005\n",
       "Old                 3507"
      ]
     },
     "execution_count": 21,
     "metadata": {},
     "output_type": "execute_result"
    },
    {
     "data": {
      "image/png": "[encoded data removed]",
      "text/plain": [
       "<Figure size 432x288 with 1 Axes>"
      ]
     },
     "metadata": {},
     "output_type": "display_data"
    }
   ],
   "source": [
    "#plotting\n",
    "member_age_groups_counts = fordgobike_clean['member_age_groups'].value_counts()\n",
    "plt.title('Proportion of member_age_groups for the bikers')\n",
    "pie, rtf = pie_plot(member_age_groups_counts)\n",
    "rtf "
   ]
  },
  {
   "cell_type": "markdown",
   "metadata": {},
   "source": [
    "> Most of the members are teen followed by adults and the old make up the least number of members"
   ]
  },
  {
   "cell_type": "markdown",
   "metadata": {},
   "source": [
    "### Discuss the distribution(s) of your variable(s) of interest. Were there any unusual points? Did you need to perform any transformations?\n",
    ">  Duration has a long-tailed distribution, with a lot of bikers on taking on the low duration end and few on the high duration end\n",
    "<br> \n",
    "When plotted on a log-scale, the duration distribution is bimodal, with the highest peak between 400 and 800.\n",
    "\n",
    "### Of the features you investigated, were there any unusual distributions? Did you perform any operations on the data to tidy, adjust, or change the form of the data? If so, why did you do this?\n",
    "\n",
    "> For the member Age, a limit was set to omit those member with an age of 100 and above<br>\n",
    "Also, instead of using member_birth_year I preferred to use the member age which was easier to analysis and visualize."
   ]
  },
  {
   "cell_type": "markdown",
   "metadata": {},
   "source": [
    "## Bivariate Exploration"
   ]
  },
  {
   "cell_type": "markdown",
   "metadata": {},
   "source": [
    "### Relationship of the duration and the age of the members"
   ]
  },
  {
   "cell_type": "markdown",
   "metadata": {},
   "source": [
    "**Overall view of data**"
   ]
  },
  {
   "cell_type": "code",
   "execution_count": 22,
   "metadata": {},
   "outputs": [
    {
     "name": "stdout",
     "output_type": "stream",
     "text": [
      "fordgobike_clean.shape= (173947, 7)\n",
      "fordgobike_clean_samp.shape= (4000, 7)\n"
     ]
    },
    {
     "data": {
      "text/plain": [
       "<seaborn.axisgrid.PairGrid at 0x20a01275430>"
      ]
     },
     "execution_count": 22,
     "metadata": {},
     "output_type": "execute_result"
    },
    {
     "data": {
      "image/png": "[encoded data removed]",
      "text/plain": [
       "<Figure size 540x360 with 6 Axes>"
      ]
     },
     "metadata": {
      "needs_background": "light"
     },
     "output_type": "display_data"
    }
   ],
   "source": [
    "# plot matrix: sample 4000 so that plots are clearer and they render faster\n",
    "print(\"fordgobike_clean.shape=\",fordgobike_clean.shape)\n",
    "fordgobike_clean_samp = fordgobike_clean.sample(n=4000, replace = False)\n",
    "print(\"fordgobike_clean_samp.shape=\",fordgobike_clean_samp.shape)\n",
    "base_color = sb.color_palette()[0]\n",
    "\n",
    "g = sb.PairGrid(data = fordgobike_clean_samp, x_vars = ['member_gender', 'bike_share_for_all_trip', 'user_type'],\n",
    "                y_vars = ['member_age', 'duration_sec'])\n",
    "g.map(sb.violinplot, color=base_color, inner='quartile')\n"
   ]
  },
  {
   "cell_type": "markdown",
   "metadata": {},
   "source": [
    "> Most of the members are between 25 to 50 years of age and the duration time is mostly on the 500 to 1000."
   ]
  },
  {
   "cell_type": "markdown",
   "metadata": {},
   "source": [
    "**What is the relationship between duration time and age**"
   ]
  },
  {
   "cell_type": "code",
   "execution_count": 23,
   "metadata": {},
   "outputs": [
    {
     "data": {
      "text/plain": [
       "Text(0.5, 0, 'Member Age(years)')"
      ]
     },
     "execution_count": 23,
     "metadata": {},
     "output_type": "execute_result"
    },
    {
     "data": {
      "image/png": "[encoded data removed]",
      "text/plain": [
       "<Figure size 432x288 with 1 Axes>"
      ]
     },
     "metadata": {
      "needs_background": "light"
     },
     "output_type": "display_data"
    }
   ],
   "source": [
    "# plotting a regplot to visualize the relation of age and duration\n",
    "sb.regplot(data = fordgobike_clean, x = 'member_age', y = 'duration_sec', truncate=False, x_jitter=0.2, scatter_kws={'alpha':1/3});\n",
    "plt.ylabel('Duration (sec)')\n",
    "plt.xlabel('Member Age(years)')"
   ]
  },
  {
   "cell_type": "markdown",
   "metadata": {},
   "source": [
    ">Most of the members have a short period duration time with few having a long duration time. Those with high duration time can be termed as Young population."
   ]
  },
  {
   "cell_type": "markdown",
   "metadata": {},
   "source": [
    "**An overview of all the counts in the dataset**"
   ]
  },
  {
   "cell_type": "code",
   "execution_count": 24,
   "metadata": {},
   "outputs": [
    {
     "name": "stdout",
     "output_type": "stream",
     "text": [
      "Subscriber    157928\n",
      "Customer       16019\n",
      "Name: user_type, dtype: int64\n",
      "Male      129844\n",
      "Female     40513\n",
      "Other       3590\n",
      "Name: member_gender, dtype: int64\n",
      "No     156710\n",
      "Yes     17237\n",
      "Name: bike_share_for_all_trip, dtype: int64\n",
      "Teen     113435\n",
      "Adult     57005\n",
      "Old        3507\n",
      "Name: member_age_groups, dtype: int64\n"
     ]
    }
   ],
   "source": [
    "# Getting all the counts in the data\n",
    "for data in fordgobike_clean[['user_type','member_gender','bike_share_for_all_trip','member_age_groups']]:\n",
    "    print(fordgobike_clean[data].value_counts())"
   ]
  },
  {
   "cell_type": "markdown",
   "metadata": {},
   "source": [
    "**Relationship between Age groups and duration time (Sec)**"
   ]
  },
  {
   "cell_type": "code",
   "execution_count": 25,
   "metadata": {},
   "outputs": [
    {
     "data": {
      "text/html": [
       "<div>\n",
       "<style scoped>\n",
       "    .dataframe tbody tr th:only-of-type {\n",
       "        vertical-align: middle;\n",
       "    }\n",
       "\n",
       "    .dataframe tbody tr th {\n",
       "        vertical-align: top;\n",
       "    }\n",
       "\n",
       "    .dataframe thead th {\n",
       "        text-align: right;\n",
       "    }\n",
       "</style>\n",
       "<table border=\"1\" class=\"dataframe\">\n",
       "  <thead>\n",
       "    <tr style=\"text-align: right;\">\n",
       "      <th></th>\n",
       "      <th>duration_sec</th>\n",
       "    </tr>\n",
       "    <tr>\n",
       "      <th>member_age_groups</th>\n",
       "      <th></th>\n",
       "    </tr>\n",
       "  </thead>\n",
       "  <tbody>\n",
       "    <tr>\n",
       "      <th>Teen</th>\n",
       "      <td>113435</td>\n",
       "    </tr>\n",
       "    <tr>\n",
       "      <th>Adult</th>\n",
       "      <td>57005</td>\n",
       "    </tr>\n",
       "    <tr>\n",
       "      <th>Old</th>\n",
       "      <td>3507</td>\n",
       "    </tr>\n",
       "  </tbody>\n",
       "</table>\n",
       "</div>"
      ],
      "text/plain": [
       "                   duration_sec\n",
       "member_age_groups              \n",
       "Teen                     113435\n",
       "Adult                     57005\n",
       "Old                        3507"
      ]
     },
     "execution_count": 25,
     "metadata": {},
     "output_type": "execute_result"
    },
    {
     "data": {
      "image/png": "[encoded data removed]",
      "text/plain": [
       "<Figure size 432x288 with 1 Axes>"
      ]
     },
     "metadata": {
      "needs_background": "light"
     },
     "output_type": "display_data"
    }
   ],
   "source": [
    "#Creating bar plot formula\n",
    "def bar_plot(data):\n",
    "    bar=data.plot(kind=\"bar\",sort_columns=True)\n",
    "    rtf=pd.DataFrame(data)\n",
    "    return bar, rtf\n",
    "# visualizing the relation of different age groups with duration time\n",
    "plt.title('Relationship between Age group with duration')\n",
    "plt.ylabel('Duration (sec)')\n",
    "data = fordgobike_clean.groupby('member_age_groups')['duration_sec'].count()\n",
    "bar, rtf =bar_plot(data);\n",
    "rtf"
   ]
  },
  {
   "cell_type": "markdown",
   "metadata": {},
   "source": [
    "> As expected, teen age members take more duration time as compared to the old and adults. The old take the lowest duration time but also there are few old members in the data."
   ]
  },
  {
   "cell_type": "markdown",
   "metadata": {},
   "source": [
    "**Relation of age groups with the duration**"
   ]
  },
  {
   "cell_type": "code",
   "execution_count": 26,
   "metadata": {
    "scrolled": true
   },
   "outputs": [
    {
     "data": {
      "text/plain": [
       "<AxesSubplot:xlabel='duration_sec', ylabel='member_age_groups'>"
      ]
     },
     "execution_count": 26,
     "metadata": {},
     "output_type": "execute_result"
    },
    {
     "data": {
      "image/png": "[encoded data removed]",
      "text/plain": [
       "<Figure size 432x288 with 1 Axes>"
      ]
     },
     "metadata": {
      "needs_background": "light"
     },
     "output_type": "display_data"
    }
   ],
   "source": [
    "base_color = sb.color_palette()[0]\n",
    "sb.violinplot(data = fordgobike_clean, y ='member_age_groups', x = 'duration_sec', color=base_color, inner='quartile')"
   ]
  },
  {
   "cell_type": "markdown",
   "metadata": {},
   "source": [
    "> For the distribution of the duration in terms of the age groups show that majority of the population didn't have a high duration time."
   ]
  },
  {
   "cell_type": "markdown",
   "metadata": {},
   "source": [
    "**Is there any relation of the member that share bike in accordance to the age of the member?**"
   ]
  },
  {
   "cell_type": "code",
   "execution_count": 27,
   "metadata": {
    "scrolled": true
   },
   "outputs": [
    {
     "data": {
      "text/html": [
       "<div>\n",
       "<style scoped>\n",
       "    .dataframe tbody tr th:only-of-type {\n",
       "        vertical-align: middle;\n",
       "    }\n",
       "\n",
       "    .dataframe tbody tr th {\n",
       "        vertical-align: top;\n",
       "    }\n",
       "\n",
       "    .dataframe thead th {\n",
       "        text-align: right;\n",
       "    }\n",
       "</style>\n",
       "<table border=\"1\" class=\"dataframe\">\n",
       "  <thead>\n",
       "    <tr style=\"text-align: right;\">\n",
       "      <th></th>\n",
       "      <th></th>\n",
       "      <th>bike_share_for_all_trip</th>\n",
       "    </tr>\n",
       "    <tr>\n",
       "      <th>member_age_groups</th>\n",
       "      <th>bike_share_for_all_trip</th>\n",
       "      <th></th>\n",
       "    </tr>\n",
       "  </thead>\n",
       "  <tbody>\n",
       "    <tr>\n",
       "      <th rowspan=\"2\" valign=\"top\">Teen</th>\n",
       "      <th>No</th>\n",
       "      <td>101364</td>\n",
       "    </tr>\n",
       "    <tr>\n",
       "      <th>Yes</th>\n",
       "      <td>12071</td>\n",
       "    </tr>\n",
       "    <tr>\n",
       "      <th rowspan=\"2\" valign=\"top\">Adult</th>\n",
       "      <th>No</th>\n",
       "      <td>52484</td>\n",
       "    </tr>\n",
       "    <tr>\n",
       "      <th>Yes</th>\n",
       "      <td>4521</td>\n",
       "    </tr>\n",
       "    <tr>\n",
       "      <th rowspan=\"2\" valign=\"top\">Old</th>\n",
       "      <th>No</th>\n",
       "      <td>2862</td>\n",
       "    </tr>\n",
       "    <tr>\n",
       "      <th>Yes</th>\n",
       "      <td>645</td>\n",
       "    </tr>\n",
       "  </tbody>\n",
       "</table>\n",
       "</div>"
      ],
      "text/plain": [
       "                                           bike_share_for_all_trip\n",
       "member_age_groups bike_share_for_all_trip                         \n",
       "Teen              No                                        101364\n",
       "                  Yes                                        12071\n",
       "Adult             No                                         52484\n",
       "                  Yes                                         4521\n",
       "Old               No                                          2862\n",
       "                  Yes                                          645"
      ]
     },
     "execution_count": 27,
     "metadata": {},
     "output_type": "execute_result"
    },
    {
     "data": {
      "image/png": "[encoded data removed]",
      "text/plain": [
       "<Figure size 432x288 with 1 Axes>"
      ]
     },
     "metadata": {
      "needs_background": "light"
     },
     "output_type": "display_data"
    }
   ],
   "source": [
    "# Creating a count plot formula\n",
    "def count_plot(variable):\n",
    "    countplot=sb.countplot(data = fordgobike_clean, x = 'member_age_groups', hue=variable)\n",
    "    rtf=pd.DataFrame(fordgobike_clean.groupby('member_age_groups')[variable].value_counts())\n",
    "    return countplot, rtf\n",
    "# visualizing\n",
    "plt.title('Relation of biker that share in accordance to Age Group' )\n",
    "countplot, rtf =count_plot('bike_share_for_all_trip')\n",
    "rtf"
   ]
  },
  {
   "cell_type": "markdown",
   "metadata": {},
   "source": [
    "> Teen age member don't share the bike the most followed by adult then the old but this is not in accordance to the proportion of their number as the teen and adult makes up most of the data thus their total number can be used as a reference of those member that share the bike all trip."
   ]
  },
  {
   "cell_type": "markdown",
   "metadata": {},
   "source": [
    "**Proportion relation of the member who shared bike in accordance to the age groups**"
   ]
  },
  {
   "cell_type": "code",
   "execution_count": 28,
   "metadata": {},
   "outputs": [
    {
     "data": {
      "text/html": [
       "<div>\n",
       "<style scoped>\n",
       "    .dataframe tbody tr th:only-of-type {\n",
       "        vertical-align: middle;\n",
       "    }\n",
       "\n",
       "    .dataframe tbody tr th {\n",
       "        vertical-align: top;\n",
       "    }\n",
       "\n",
       "    .dataframe thead th {\n",
       "        text-align: right;\n",
       "    }\n",
       "</style>\n",
       "<table border=\"1\" class=\"dataframe\">\n",
       "  <thead>\n",
       "    <tr style=\"text-align: right;\">\n",
       "      <th></th>\n",
       "      <th>duration_sec</th>\n",
       "      <th>user_type</th>\n",
       "      <th>member_birth_year</th>\n",
       "      <th>member_gender</th>\n",
       "      <th>bike_share_for_all_trip</th>\n",
       "      <th>member_age</th>\n",
       "      <th>member_age_groups</th>\n",
       "      <th>bike_share</th>\n",
       "    </tr>\n",
       "  </thead>\n",
       "  <tbody>\n",
       "    <tr>\n",
       "      <th>4</th>\n",
       "      <td>1585</td>\n",
       "      <td>Subscriber</td>\n",
       "      <td>1974.0</td>\n",
       "      <td>Male</td>\n",
       "      <td>Yes</td>\n",
       "      <td>45</td>\n",
       "      <td>Adult</td>\n",
       "      <td>1</td>\n",
       "    </tr>\n",
       "    <tr>\n",
       "      <th>5</th>\n",
       "      <td>1793</td>\n",
       "      <td>Subscriber</td>\n",
       "      <td>1959.0</td>\n",
       "      <td>Male</td>\n",
       "      <td>No</td>\n",
       "      <td>60</td>\n",
       "      <td>Adult</td>\n",
       "      <td>0</td>\n",
       "    </tr>\n",
       "    <tr>\n",
       "      <th>6</th>\n",
       "      <td>1147</td>\n",
       "      <td>Subscriber</td>\n",
       "      <td>1983.0</td>\n",
       "      <td>Female</td>\n",
       "      <td>No</td>\n",
       "      <td>36</td>\n",
       "      <td>Adult</td>\n",
       "      <td>0</td>\n",
       "    </tr>\n",
       "    <tr>\n",
       "      <th>7</th>\n",
       "      <td>1615</td>\n",
       "      <td>Subscriber</td>\n",
       "      <td>1989.0</td>\n",
       "      <td>Male</td>\n",
       "      <td>No</td>\n",
       "      <td>30</td>\n",
       "      <td>Teen</td>\n",
       "      <td>0</td>\n",
       "    </tr>\n",
       "    <tr>\n",
       "      <th>8</th>\n",
       "      <td>1570</td>\n",
       "      <td>Subscriber</td>\n",
       "      <td>1988.0</td>\n",
       "      <td>Other</td>\n",
       "      <td>No</td>\n",
       "      <td>31</td>\n",
       "      <td>Teen</td>\n",
       "      <td>0</td>\n",
       "    </tr>\n",
       "  </tbody>\n",
       "</table>\n",
       "</div>"
      ],
      "text/plain": [
       "   duration_sec   user_type  member_birth_year member_gender  \\\n",
       "4          1585  Subscriber             1974.0          Male   \n",
       "5          1793  Subscriber             1959.0          Male   \n",
       "6          1147  Subscriber             1983.0        Female   \n",
       "7          1615  Subscriber             1989.0          Male   \n",
       "8          1570  Subscriber             1988.0         Other   \n",
       "\n",
       "  bike_share_for_all_trip  member_age member_age_groups  bike_share  \n",
       "4                     Yes          45             Adult           1  \n",
       "5                      No          60             Adult           0  \n",
       "6                      No          36             Adult           0  \n",
       "7                      No          30              Teen           0  \n",
       "8                      No          31              Teen           0  "
      ]
     },
     "execution_count": 28,
     "metadata": {},
     "output_type": "execute_result"
    }
   ],
   "source": [
    "# converegion of bike_share_for_all_trip object into int\n",
    "fordgobike_clean['bike_share'] = (fordgobike_clean['bike_share_for_all_trip']=='Yes').astype(int) \n",
    "fordgobike_clean.head()"
   ]
  },
  {
   "cell_type": "code",
   "execution_count": 29,
   "metadata": {},
   "outputs": [],
   "source": [
    "#creating a numeric observation for the member in term of bike sharing\n",
    "No_share=fordgobike_clean.query('bike_share == 0')\n",
    "share=fordgobike_clean.query('bike_share == 1')"
   ]
  },
  {
   "cell_type": "code",
   "execution_count": 30,
   "metadata": {
    "scrolled": false
   },
   "outputs": [
    {
     "data": {
      "text/html": [
       "<div>\n",
       "<style scoped>\n",
       "    .dataframe tbody tr th:only-of-type {\n",
       "        vertical-align: middle;\n",
       "    }\n",
       "\n",
       "    .dataframe tbody tr th {\n",
       "        vertical-align: top;\n",
       "    }\n",
       "\n",
       "    .dataframe thead th {\n",
       "        text-align: right;\n",
       "    }\n",
       "</style>\n",
       "<table border=\"1\" class=\"dataframe\">\n",
       "  <thead>\n",
       "    <tr style=\"text-align: right;\">\n",
       "      <th></th>\n",
       "      <th>member_age_groups</th>\n",
       "    </tr>\n",
       "  </thead>\n",
       "  <tbody>\n",
       "    <tr>\n",
       "      <th>Teen</th>\n",
       "      <td>0.106413</td>\n",
       "    </tr>\n",
       "    <tr>\n",
       "      <th>Adult</th>\n",
       "      <td>0.079309</td>\n",
       "    </tr>\n",
       "    <tr>\n",
       "      <th>Old</th>\n",
       "      <td>0.183918</td>\n",
       "    </tr>\n",
       "  </tbody>\n",
       "</table>\n",
       "</div>"
      ],
      "text/plain": [
       "       member_age_groups\n",
       "Teen            0.106413\n",
       "Adult           0.079309\n",
       "Old             0.183918"
      ]
     },
     "execution_count": 30,
     "metadata": {},
     "output_type": "execute_result"
    },
    {
     "data": {
      "image/png": "[encoded data removed]",
      "text/plain": [
       "<Figure size 432x288 with 1 Axes>"
      ]
     },
     "metadata": {
      "needs_background": "light"
     },
     "output_type": "display_data"
    }
   ],
   "source": [
    "#Getting the relation of bike sharing with the age groups in accordance to the total number of age group\n",
    "share_proportion=(share['member_age_groups'].value_counts()/fordgobike_clean['member_age_groups'].value_counts())\n",
    "plt.title('Proportion of biker that share in accordance to Age Group' )\n",
    "share_proportion.sort_values()\n",
    "bar, rtf =bar_plot(share_proportion);\n",
    "rtf"
   ]
  },
  {
   "cell_type": "markdown",
   "metadata": {},
   "source": [
    "> Inspite of the teen age bikers being many, according to the proportion of the total number, most of the old age members share the bike during the trip followed by the teen and lastly the adult members"
   ]
  },
  {
   "cell_type": "markdown",
   "metadata": {},
   "source": [
    "**What about the member who don't share their bike for the trip**"
   ]
  },
  {
   "cell_type": "code",
   "execution_count": 31,
   "metadata": {},
   "outputs": [
    {
     "data": {
      "text/html": [
       "<div>\n",
       "<style scoped>\n",
       "    .dataframe tbody tr th:only-of-type {\n",
       "        vertical-align: middle;\n",
       "    }\n",
       "\n",
       "    .dataframe tbody tr th {\n",
       "        vertical-align: top;\n",
       "    }\n",
       "\n",
       "    .dataframe thead th {\n",
       "        text-align: right;\n",
       "    }\n",
       "</style>\n",
       "<table border=\"1\" class=\"dataframe\">\n",
       "  <thead>\n",
       "    <tr style=\"text-align: right;\">\n",
       "      <th></th>\n",
       "      <th>member_age_groups</th>\n",
       "    </tr>\n",
       "  </thead>\n",
       "  <tbody>\n",
       "    <tr>\n",
       "      <th>Teen</th>\n",
       "      <td>0.893587</td>\n",
       "    </tr>\n",
       "    <tr>\n",
       "      <th>Adult</th>\n",
       "      <td>0.920691</td>\n",
       "    </tr>\n",
       "    <tr>\n",
       "      <th>Old</th>\n",
       "      <td>0.816082</td>\n",
       "    </tr>\n",
       "  </tbody>\n",
       "</table>\n",
       "</div>"
      ],
      "text/plain": [
       "       member_age_groups\n",
       "Teen            0.893587\n",
       "Adult           0.920691\n",
       "Old             0.816082"
      ]
     },
     "execution_count": 31,
     "metadata": {},
     "output_type": "execute_result"
    },
    {
     "data": {
      "image/png": "[encoded data removed]",
      "text/plain": [
       "<Figure size 432x288 with 1 Axes>"
      ]
     },
     "metadata": {
      "needs_background": "light"
     },
     "output_type": "display_data"
    }
   ],
   "source": [
    "share_proportion=(No_share['member_age_groups'].value_counts()/fordgobike_clean['member_age_groups'].value_counts())\n",
    "plt.title(\"Proportion of biker that Don't share in accordance to Age Group\" )\n",
    "share_proportion.sort_values()\n",
    "bar, rtf =bar_plot(share_proportion);\n",
    "rtf"
   ]
  },
  {
   "cell_type": "markdown",
   "metadata": {},
   "source": [
    "> Inaccordance to the proportion of the total number, Most of adults don't share the biker for the trip followed by teen, while the old share don't share the bike the least as expected."
   ]
  },
  {
   "cell_type": "markdown",
   "metadata": {},
   "source": [
    "**Is there any relation of the member user type in accordance to the age of the member?**"
   ]
  },
  {
   "cell_type": "code",
   "execution_count": 32,
   "metadata": {},
   "outputs": [
    {
     "data": {
      "text/html": [
       "<div>\n",
       "<style scoped>\n",
       "    .dataframe tbody tr th:only-of-type {\n",
       "        vertical-align: middle;\n",
       "    }\n",
       "\n",
       "    .dataframe tbody tr th {\n",
       "        vertical-align: top;\n",
       "    }\n",
       "\n",
       "    .dataframe thead th {\n",
       "        text-align: right;\n",
       "    }\n",
       "</style>\n",
       "<table border=\"1\" class=\"dataframe\">\n",
       "  <thead>\n",
       "    <tr style=\"text-align: right;\">\n",
       "      <th></th>\n",
       "      <th></th>\n",
       "      <th>user_type</th>\n",
       "    </tr>\n",
       "    <tr>\n",
       "      <th>member_age_groups</th>\n",
       "      <th>user_type</th>\n",
       "      <th></th>\n",
       "    </tr>\n",
       "  </thead>\n",
       "  <tbody>\n",
       "    <tr>\n",
       "      <th rowspan=\"2\" valign=\"top\">Teen</th>\n",
       "      <th>Subscriber</th>\n",
       "      <td>102669</td>\n",
       "    </tr>\n",
       "    <tr>\n",
       "      <th>Customer</th>\n",
       "      <td>10766</td>\n",
       "    </tr>\n",
       "    <tr>\n",
       "      <th rowspan=\"2\" valign=\"top\">Adult</th>\n",
       "      <th>Subscriber</th>\n",
       "      <td>51935</td>\n",
       "    </tr>\n",
       "    <tr>\n",
       "      <th>Customer</th>\n",
       "      <td>5070</td>\n",
       "    </tr>\n",
       "    <tr>\n",
       "      <th rowspan=\"2\" valign=\"top\">Old</th>\n",
       "      <th>Subscriber</th>\n",
       "      <td>3324</td>\n",
       "    </tr>\n",
       "    <tr>\n",
       "      <th>Customer</th>\n",
       "      <td>183</td>\n",
       "    </tr>\n",
       "  </tbody>\n",
       "</table>\n",
       "</div>"
      ],
      "text/plain": [
       "                              user_type\n",
       "member_age_groups user_type            \n",
       "Teen              Subscriber     102669\n",
       "                  Customer        10766\n",
       "Adult             Subscriber      51935\n",
       "                  Customer         5070\n",
       "Old               Subscriber       3324\n",
       "                  Customer          183"
      ]
     },
     "execution_count": 32,
     "metadata": {},
     "output_type": "execute_result"
    },
    {
     "data": {
      "image/png": "[encoded data removed]",
      "text/plain": [
       "<Figure size 432x288 with 1 Axes>"
      ]
     },
     "metadata": {
      "needs_background": "light"
     },
     "output_type": "display_data"
    }
   ],
   "source": [
    "# visualizing\n",
    "plt.title('Relation of biker user_type in accordance to Age Group' )\n",
    "countplot, rtf = count_plot('user_type')\n",
    "rtf"
   ]
  },
  {
   "cell_type": "markdown",
   "metadata": {},
   "source": [
    "> Most of all the age groups are subscribers while a few are customer,with teen having the highest number of customers and subscribers followed by adult and the old lastly."
   ]
  },
  {
   "cell_type": "markdown",
   "metadata": {},
   "source": [
    "**Converting the user type to numeric variable**"
   ]
  },
  {
   "cell_type": "code",
   "execution_count": 33,
   "metadata": {},
   "outputs": [
    {
     "data": {
      "text/html": [
       "<div>\n",
       "<style scoped>\n",
       "    .dataframe tbody tr th:only-of-type {\n",
       "        vertical-align: middle;\n",
       "    }\n",
       "\n",
       "    .dataframe tbody tr th {\n",
       "        vertical-align: top;\n",
       "    }\n",
       "\n",
       "    .dataframe thead th {\n",
       "        text-align: right;\n",
       "    }\n",
       "</style>\n",
       "<table border=\"1\" class=\"dataframe\">\n",
       "  <thead>\n",
       "    <tr style=\"text-align: right;\">\n",
       "      <th></th>\n",
       "      <th>duration_sec</th>\n",
       "      <th>user_type</th>\n",
       "      <th>member_birth_year</th>\n",
       "      <th>member_gender</th>\n",
       "      <th>bike_share_for_all_trip</th>\n",
       "      <th>member_age</th>\n",
       "      <th>member_age_groups</th>\n",
       "      <th>bike_share</th>\n",
       "      <th>type</th>\n",
       "    </tr>\n",
       "  </thead>\n",
       "  <tbody>\n",
       "    <tr>\n",
       "      <th>4</th>\n",
       "      <td>1585</td>\n",
       "      <td>Subscriber</td>\n",
       "      <td>1974.0</td>\n",
       "      <td>Male</td>\n",
       "      <td>Yes</td>\n",
       "      <td>45</td>\n",
       "      <td>Adult</td>\n",
       "      <td>1</td>\n",
       "      <td>1</td>\n",
       "    </tr>\n",
       "    <tr>\n",
       "      <th>5</th>\n",
       "      <td>1793</td>\n",
       "      <td>Subscriber</td>\n",
       "      <td>1959.0</td>\n",
       "      <td>Male</td>\n",
       "      <td>No</td>\n",
       "      <td>60</td>\n",
       "      <td>Adult</td>\n",
       "      <td>0</td>\n",
       "      <td>1</td>\n",
       "    </tr>\n",
       "    <tr>\n",
       "      <th>6</th>\n",
       "      <td>1147</td>\n",
       "      <td>Subscriber</td>\n",
       "      <td>1983.0</td>\n",
       "      <td>Female</td>\n",
       "      <td>No</td>\n",
       "      <td>36</td>\n",
       "      <td>Adult</td>\n",
       "      <td>0</td>\n",
       "      <td>1</td>\n",
       "    </tr>\n",
       "    <tr>\n",
       "      <th>7</th>\n",
       "      <td>1615</td>\n",
       "      <td>Subscriber</td>\n",
       "      <td>1989.0</td>\n",
       "      <td>Male</td>\n",
       "      <td>No</td>\n",
       "      <td>30</td>\n",
       "      <td>Teen</td>\n",
       "      <td>0</td>\n",
       "      <td>1</td>\n",
       "    </tr>\n",
       "    <tr>\n",
       "      <th>8</th>\n",
       "      <td>1570</td>\n",
       "      <td>Subscriber</td>\n",
       "      <td>1988.0</td>\n",
       "      <td>Other</td>\n",
       "      <td>No</td>\n",
       "      <td>31</td>\n",
       "      <td>Teen</td>\n",
       "      <td>0</td>\n",
       "      <td>1</td>\n",
       "    </tr>\n",
       "  </tbody>\n",
       "</table>\n",
       "</div>"
      ],
      "text/plain": [
       "   duration_sec   user_type  member_birth_year member_gender  \\\n",
       "4          1585  Subscriber             1974.0          Male   \n",
       "5          1793  Subscriber             1959.0          Male   \n",
       "6          1147  Subscriber             1983.0        Female   \n",
       "7          1615  Subscriber             1989.0          Male   \n",
       "8          1570  Subscriber             1988.0         Other   \n",
       "\n",
       "  bike_share_for_all_trip  member_age member_age_groups  bike_share  type  \n",
       "4                     Yes          45             Adult           1     1  \n",
       "5                      No          60             Adult           0     1  \n",
       "6                      No          36             Adult           0     1  \n",
       "7                      No          30              Teen           0     1  \n",
       "8                      No          31              Teen           0     1  "
      ]
     },
     "execution_count": 33,
     "metadata": {},
     "output_type": "execute_result"
    }
   ],
   "source": [
    "# converting of user_type object into int\n",
    "fordgobike_clean['type'] = (fordgobike_clean['user_type']=='Subscriber').astype(int) \n",
    "fordgobike_clean.head(5)"
   ]
  },
  {
   "cell_type": "code",
   "execution_count": 34,
   "metadata": {},
   "outputs": [],
   "source": [
    "customer=fordgobike_clean.query('type == 0')\n",
    "subscriber=fordgobike_clean.query('type == 1')"
   ]
  },
  {
   "cell_type": "markdown",
   "metadata": {},
   "source": [
    "**Subscriber who share bike**"
   ]
  },
  {
   "cell_type": "code",
   "execution_count": 35,
   "metadata": {},
   "outputs": [
    {
     "name": "stdout",
     "output_type": "stream",
     "text": [
      "157928\n"
     ]
    },
    {
     "data": {
      "text/html": [
       "<div>\n",
       "<style scoped>\n",
       "    .dataframe tbody tr th:only-of-type {\n",
       "        vertical-align: middle;\n",
       "    }\n",
       "\n",
       "    .dataframe tbody tr th {\n",
       "        vertical-align: top;\n",
       "    }\n",
       "\n",
       "    .dataframe thead th {\n",
       "        text-align: right;\n",
       "    }\n",
       "</style>\n",
       "<table border=\"1\" class=\"dataframe\">\n",
       "  <thead>\n",
       "    <tr style=\"text-align: right;\">\n",
       "      <th></th>\n",
       "      <th>bike_share_for_all_trip</th>\n",
       "    </tr>\n",
       "  </thead>\n",
       "  <tbody>\n",
       "    <tr>\n",
       "      <th>No</th>\n",
       "      <td>140691</td>\n",
       "    </tr>\n",
       "    <tr>\n",
       "      <th>Yes</th>\n",
       "      <td>17237</td>\n",
       "    </tr>\n",
       "  </tbody>\n",
       "</table>\n",
       "</div>"
      ],
      "text/plain": [
       "     bike_share_for_all_trip\n",
       "No                    140691\n",
       "Yes                    17237"
      ]
     },
     "execution_count": 35,
     "metadata": {},
     "output_type": "execute_result"
    },
    {
     "data": {
      "image/png": "[encoded data removed]",
      "text/plain": [
       "<Figure size 432x288 with 1 Axes>"
      ]
     },
     "metadata": {},
     "output_type": "display_data"
    }
   ],
   "source": [
    "#Visualization of subscribers user_type share bike for trip\n",
    "print(fordgobike_clean['user_type'].value_counts().Subscriber)\n",
    "proportion_subscriber=subscriber['bike_share_for_all_trip'].value_counts()\n",
    "plt.title('Proportion of subscriber that share bike')\n",
    "pie, rtf = pie_plot(proportion_subscriber)\n",
    "rtf "
   ]
  },
  {
   "cell_type": "markdown",
   "metadata": {},
   "source": [
    "> Out of the 157,928 customer, 11% share bike while 89% don't share bike"
   ]
  },
  {
   "cell_type": "markdown",
   "metadata": {},
   "source": [
    "**Customer who share bike**"
   ]
  },
  {
   "cell_type": "code",
   "execution_count": 36,
   "metadata": {},
   "outputs": [
    {
     "name": "stdout",
     "output_type": "stream",
     "text": [
      "Subscriber    157928\n",
      "Customer       16019\n",
      "Name: user_type, dtype: int64\n"
     ]
    },
    {
     "data": {
      "text/html": [
       "<div>\n",
       "<style scoped>\n",
       "    .dataframe tbody tr th:only-of-type {\n",
       "        vertical-align: middle;\n",
       "    }\n",
       "\n",
       "    .dataframe tbody tr th {\n",
       "        vertical-align: top;\n",
       "    }\n",
       "\n",
       "    .dataframe thead th {\n",
       "        text-align: right;\n",
       "    }\n",
       "</style>\n",
       "<table border=\"1\" class=\"dataframe\">\n",
       "  <thead>\n",
       "    <tr style=\"text-align: right;\">\n",
       "      <th></th>\n",
       "      <th>bike_share_for_all_trip</th>\n",
       "    </tr>\n",
       "  </thead>\n",
       "  <tbody>\n",
       "    <tr>\n",
       "      <th>No</th>\n",
       "      <td>16019</td>\n",
       "    </tr>\n",
       "  </tbody>\n",
       "</table>\n",
       "</div>"
      ],
      "text/plain": [
       "    bike_share_for_all_trip\n",
       "No                    16019"
      ]
     },
     "execution_count": 36,
     "metadata": {},
     "output_type": "execute_result"
    },
    {
     "data": {
      "image/png": "[encoded data removed]",
      "text/plain": [
       "<Figure size 432x288 with 1 Axes>"
      ]
     },
     "metadata": {},
     "output_type": "display_data"
    }
   ],
   "source": [
    "print(fordgobike_clean['user_type'].value_counts())\n",
    "proportion_customer=customer['bike_share_for_all_trip'].value_counts()\n",
    "plt.title('Proportion of customer that share bike')\n",
    "pie, rtf = pie_plot(proportion_customer)\n",
    "rtf "
   ]
  },
  {
   "cell_type": "markdown",
   "metadata": {},
   "source": [
    "> 100% of the customer don't share the bike for all trip"
   ]
  },
  {
   "cell_type": "markdown",
   "metadata": {},
   "source": [
    "**Division of customers and subscribers in accordance to member gender**"
   ]
  },
  {
   "cell_type": "code",
   "execution_count": 37,
   "metadata": {},
   "outputs": [
    {
     "name": "stdout",
     "output_type": "stream",
     "text": [
      "157928\n"
     ]
    },
    {
     "data": {
      "text/html": [
       "<div>\n",
       "<style scoped>\n",
       "    .dataframe tbody tr th:only-of-type {\n",
       "        vertical-align: middle;\n",
       "    }\n",
       "\n",
       "    .dataframe tbody tr th {\n",
       "        vertical-align: top;\n",
       "    }\n",
       "\n",
       "    .dataframe thead th {\n",
       "        text-align: right;\n",
       "    }\n",
       "</style>\n",
       "<table border=\"1\" class=\"dataframe\">\n",
       "  <thead>\n",
       "    <tr style=\"text-align: right;\">\n",
       "      <th></th>\n",
       "      <th>member_gender</th>\n",
       "    </tr>\n",
       "  </thead>\n",
       "  <tbody>\n",
       "    <tr>\n",
       "      <th>Male</th>\n",
       "      <td>118715</td>\n",
       "    </tr>\n",
       "    <tr>\n",
       "      <th>Female</th>\n",
       "      <td>36066</td>\n",
       "    </tr>\n",
       "    <tr>\n",
       "      <th>Other</th>\n",
       "      <td>3147</td>\n",
       "    </tr>\n",
       "  </tbody>\n",
       "</table>\n",
       "</div>"
      ],
      "text/plain": [
       "        member_gender\n",
       "Male           118715\n",
       "Female          36066\n",
       "Other            3147"
      ]
     },
     "execution_count": 37,
     "metadata": {},
     "output_type": "execute_result"
    },
    {
     "data": {
      "image/png": "[encoded data removed]",
      "text/plain": [
       "<Figure size 432x288 with 1 Axes>"
      ]
     },
     "metadata": {},
     "output_type": "display_data"
    }
   ],
   "source": [
    "# Relation of subscriber and gender\n",
    "print(fordgobike_clean['user_type'].value_counts().Subscriber)\n",
    "subscriber_gender=subscriber['member_gender'].value_counts()\n",
    "plt.title('Proportion of subscriber in accordance to gender')\n",
    "pie, rtf = pie_plot(subscriber_gender)\n",
    "rtf "
   ]
  },
  {
   "cell_type": "markdown",
   "metadata": {},
   "source": [
    "> The male gender dominate for the subscribers followed by female while the others make the least percent"
   ]
  },
  {
   "cell_type": "code",
   "execution_count": 38,
   "metadata": {},
   "outputs": [
    {
     "name": "stdout",
     "output_type": "stream",
     "text": [
      "16019\n"
     ]
    },
    {
     "data": {
      "text/html": [
       "<div>\n",
       "<style scoped>\n",
       "    .dataframe tbody tr th:only-of-type {\n",
       "        vertical-align: middle;\n",
       "    }\n",
       "\n",
       "    .dataframe tbody tr th {\n",
       "        vertical-align: top;\n",
       "    }\n",
       "\n",
       "    .dataframe thead th {\n",
       "        text-align: right;\n",
       "    }\n",
       "</style>\n",
       "<table border=\"1\" class=\"dataframe\">\n",
       "  <thead>\n",
       "    <tr style=\"text-align: right;\">\n",
       "      <th></th>\n",
       "      <th>member_gender</th>\n",
       "    </tr>\n",
       "  </thead>\n",
       "  <tbody>\n",
       "    <tr>\n",
       "      <th>Male</th>\n",
       "      <td>11129</td>\n",
       "    </tr>\n",
       "    <tr>\n",
       "      <th>Female</th>\n",
       "      <td>4447</td>\n",
       "    </tr>\n",
       "    <tr>\n",
       "      <th>Other</th>\n",
       "      <td>443</td>\n",
       "    </tr>\n",
       "  </tbody>\n",
       "</table>\n",
       "</div>"
      ],
      "text/plain": [
       "        member_gender\n",
       "Male            11129\n",
       "Female           4447\n",
       "Other             443"
      ]
     },
     "execution_count": 38,
     "metadata": {},
     "output_type": "execute_result"
    },
    {
     "data": {
      "image/png": "[encoded data removed]",
      "text/plain": [
       "<Figure size 432x288 with 1 Axes>"
      ]
     },
     "metadata": {},
     "output_type": "display_data"
    }
   ],
   "source": [
    "# Relation of Customer and gender\n",
    "print(fordgobike_clean['user_type'].value_counts().Customer)\n",
    "customer_gender=customer['member_gender'].value_counts()\n",
    "plt.title('Proportion of customer in accordance to gender')\n",
    "pie, rtf = pie_plot(customer_gender)\n",
    "rtf "
   ]
  },
  {
   "cell_type": "markdown",
   "metadata": {},
   "source": [
    "> The male also dominate followed by female and the others make the least number."
   ]
  },
  {
   "cell_type": "markdown",
   "metadata": {},
   "source": [
    "**Is there any relation of the member gender in accordance to the age of the member?**"
   ]
  },
  {
   "cell_type": "code",
   "execution_count": 39,
   "metadata": {},
   "outputs": [
    {
     "data": {
      "text/html": [
       "<div>\n",
       "<style scoped>\n",
       "    .dataframe tbody tr th:only-of-type {\n",
       "        vertical-align: middle;\n",
       "    }\n",
       "\n",
       "    .dataframe tbody tr th {\n",
       "        vertical-align: top;\n",
       "    }\n",
       "\n",
       "    .dataframe thead th {\n",
       "        text-align: right;\n",
       "    }\n",
       "</style>\n",
       "<table border=\"1\" class=\"dataframe\">\n",
       "  <thead>\n",
       "    <tr style=\"text-align: right;\">\n",
       "      <th></th>\n",
       "      <th></th>\n",
       "      <th>member_gender</th>\n",
       "    </tr>\n",
       "    <tr>\n",
       "      <th>member_age_groups</th>\n",
       "      <th>member_gender</th>\n",
       "      <th></th>\n",
       "    </tr>\n",
       "  </thead>\n",
       "  <tbody>\n",
       "    <tr>\n",
       "      <th rowspan=\"3\" valign=\"top\">Teen</th>\n",
       "      <th>Male</th>\n",
       "      <td>83053</td>\n",
       "    </tr>\n",
       "    <tr>\n",
       "      <th>Female</th>\n",
       "      <td>28369</td>\n",
       "    </tr>\n",
       "    <tr>\n",
       "      <th>Other</th>\n",
       "      <td>2013</td>\n",
       "    </tr>\n",
       "    <tr>\n",
       "      <th rowspan=\"3\" valign=\"top\">Adult</th>\n",
       "      <th>Male</th>\n",
       "      <td>43828</td>\n",
       "    </tr>\n",
       "    <tr>\n",
       "      <th>Female</th>\n",
       "      <td>11650</td>\n",
       "    </tr>\n",
       "    <tr>\n",
       "      <th>Other</th>\n",
       "      <td>1527</td>\n",
       "    </tr>\n",
       "    <tr>\n",
       "      <th rowspan=\"3\" valign=\"top\">Old</th>\n",
       "      <th>Male</th>\n",
       "      <td>2963</td>\n",
       "    </tr>\n",
       "    <tr>\n",
       "      <th>Female</th>\n",
       "      <td>494</td>\n",
       "    </tr>\n",
       "    <tr>\n",
       "      <th>Other</th>\n",
       "      <td>50</td>\n",
       "    </tr>\n",
       "  </tbody>\n",
       "</table>\n",
       "</div>"
      ],
      "text/plain": [
       "                                 member_gender\n",
       "member_age_groups member_gender               \n",
       "Teen              Male                   83053\n",
       "                  Female                 28369\n",
       "                  Other                   2013\n",
       "Adult             Male                   43828\n",
       "                  Female                 11650\n",
       "                  Other                   1527\n",
       "Old               Male                    2963\n",
       "                  Female                   494\n",
       "                  Other                     50"
      ]
     },
     "execution_count": 39,
     "metadata": {},
     "output_type": "execute_result"
    },
    {
     "data": {
      "image/png": "[encoded data removed]",
      "text/plain": [
       "<Figure size 432x288 with 1 Axes>"
      ]
     },
     "metadata": {
      "needs_background": "light"
     },
     "output_type": "display_data"
    }
   ],
   "source": [
    "# visualizing\n",
    "plt.title('Relation of member gender in accordance to Age Group' )\n",
    "countplot, rtf = count_plot('member_gender')\n",
    "rtf"
   ]
  },
  {
   "cell_type": "markdown",
   "metadata": {},
   "source": [
    "> For all the age groups, the male gender dominate in numbers as compared to the other genders with most of the male gender high in numbers for the teen age group followed by adult and lastly the old. Female gender falls in as second for all the age groups while the others make up the least."
   ]
  },
  {
   "cell_type": "code",
   "execution_count": 40,
   "metadata": {},
   "outputs": [
    {
     "data": {
      "text/html": [
       "<div>\n",
       "<style scoped>\n",
       "    .dataframe tbody tr th:only-of-type {\n",
       "        vertical-align: middle;\n",
       "    }\n",
       "\n",
       "    .dataframe tbody tr th {\n",
       "        vertical-align: top;\n",
       "    }\n",
       "\n",
       "    .dataframe thead th {\n",
       "        text-align: right;\n",
       "    }\n",
       "</style>\n",
       "<table border=\"1\" class=\"dataframe\">\n",
       "  <thead>\n",
       "    <tr style=\"text-align: right;\">\n",
       "      <th></th>\n",
       "      <th></th>\n",
       "      <th>member_gender</th>\n",
       "    </tr>\n",
       "    <tr>\n",
       "      <th>user_type</th>\n",
       "      <th>member_gender</th>\n",
       "      <th></th>\n",
       "    </tr>\n",
       "  </thead>\n",
       "  <tbody>\n",
       "    <tr>\n",
       "      <th rowspan=\"3\" valign=\"top\">Customer</th>\n",
       "      <th>Male</th>\n",
       "      <td>11129</td>\n",
       "    </tr>\n",
       "    <tr>\n",
       "      <th>Female</th>\n",
       "      <td>4447</td>\n",
       "    </tr>\n",
       "    <tr>\n",
       "      <th>Other</th>\n",
       "      <td>443</td>\n",
       "    </tr>\n",
       "    <tr>\n",
       "      <th rowspan=\"3\" valign=\"top\">Subscriber</th>\n",
       "      <th>Male</th>\n",
       "      <td>118715</td>\n",
       "    </tr>\n",
       "    <tr>\n",
       "      <th>Female</th>\n",
       "      <td>36066</td>\n",
       "    </tr>\n",
       "    <tr>\n",
       "      <th>Other</th>\n",
       "      <td>3147</td>\n",
       "    </tr>\n",
       "  </tbody>\n",
       "</table>\n",
       "</div>"
      ],
      "text/plain": [
       "                          member_gender\n",
       "user_type  member_gender               \n",
       "Customer   Male                   11129\n",
       "           Female                  4447\n",
       "           Other                    443\n",
       "Subscriber Male                  118715\n",
       "           Female                 36066\n",
       "           Other                   3147"
      ]
     },
     "execution_count": 40,
     "metadata": {},
     "output_type": "execute_result"
    },
    {
     "data": {
      "image/png": "[encoded data removed]",
      "text/plain": [
       "<Figure size 432x288 with 1 Axes>"
      ]
     },
     "metadata": {
      "needs_background": "light"
     },
     "output_type": "display_data"
    }
   ],
   "source": [
    "sb.countplot(data = fordgobike_clean, x = 'user_type', hue='member_gender')\n",
    "pd.DataFrame(fordgobike_clean.groupby('user_type')['member_gender'].value_counts())"
   ]
  },
  {
   "cell_type": "markdown",
   "metadata": {},
   "source": [
    "> Most of the subscribers are male followed by female while the others make up the least number of subscribers.<br>\n",
    ">This is the same for the customer"
   ]
  },
  {
   "cell_type": "markdown",
   "metadata": {},
   "source": [
    "## Multivariate Exploration"
   ]
  },
  {
   "cell_type": "markdown",
   "metadata": {},
   "source": [
    "**What is the relationship of the old subscribers and customers who don't share their bike for the trip**"
   ]
  },
  {
   "cell_type": "code",
   "execution_count": 41,
   "metadata": {},
   "outputs": [],
   "source": [
    "No_share=fordgobike_clean.query('bike_share == 0')\n",
    "share=fordgobike_clean.query('bike_share == 1')"
   ]
  },
  {
   "cell_type": "code",
   "execution_count": 42,
   "metadata": {},
   "outputs": [
    {
     "name": "stderr",
     "output_type": "stream",
     "text": [
      "C:\\ProgramData\\Anaconda3\\lib\\site-packages\\seaborn\\axisgrid.py:316: UserWarning: The `size` parameter has been renamed to `height`; please update your code.\n",
      "  warnings.warn(msg, UserWarning)\n"
     ]
    },
    {
     "data": {
      "text/plain": [
       "(60.0, 142.0)"
      ]
     },
     "execution_count": 42,
     "metadata": {},
     "output_type": "execute_result"
    },
    {
     "data": {
      "image/png": "[encoded data removed]",
      "text/plain": [
       "<Figure size 377.125x288 with 1 Axes>"
      ]
     },
     "metadata": {
      "needs_background": "light"
     },
     "output_type": "display_data"
    }
   ],
   "source": [
    "g = sb.FacetGrid(data = No_share, hue = 'user_type',size=4,\n",
    "                 palette = 'colorblind')\n",
    "g.map(plt.scatter, 'member_age', 'duration_sec')\n",
    "g.add_legend()\n",
    "plt.xlim([60.0, 142.0])"
   ]
  },
  {
   "cell_type": "markdown",
   "metadata": {},
   "source": [
    "> For the old, most of the member who didn't share the bike for the trip are between the age of 60 to 80.<br>\n",
    "> Most of them take a duration time of 18 to 2000 <br>\n",
    "> They are mostly composed of subscribers as expected and less customers.\n",
    "> Mostly, both Customers and subscribers share the same position; in the age range of 60 to 80 and time duration of 18 to 2000"
   ]
  },
  {
   "cell_type": "markdown",
   "metadata": {},
   "source": [
    "**what is the relationship of subscribers with members gender and the bike share for the trip**"
   ]
  },
  {
   "cell_type": "code",
   "execution_count": 43,
   "metadata": {},
   "outputs": [
    {
     "name": "stderr",
     "output_type": "stream",
     "text": [
      "C:\\ProgramData\\Anaconda3\\lib\\site-packages\\seaborn\\axisgrid.py:316: UserWarning: The `size` parameter has been renamed to `height`; please update your code.\n",
      "  warnings.warn(msg, UserWarning)\n"
     ]
    },
    {
     "data": {
      "text/plain": [
       "<seaborn.axisgrid.FacetGrid at 0x20a046f54c0>"
      ]
     },
     "execution_count": 43,
     "metadata": {},
     "output_type": "execute_result"
    },
    {
     "data": {
      "image/png": "[encoded data removed]",
      "text/plain": [
       "<Figure size 648x432 with 6 Axes>"
      ]
     },
     "metadata": {
      "needs_background": "light"
     },
     "output_type": "display_data"
    }
   ],
   "source": [
    "g = sb.FacetGrid(data = subscriber , col = 'member_gender', row = 'bike_share_for_all_trip', size = 3,\n",
    "                margin_titles = True)\n",
    "g.map(plt.scatter, 'member_age', 'duration_sec')"
   ]
  },
  {
   "cell_type": "markdown",
   "metadata": {},
   "source": [
    "> The males mostly have a age range of 18 to 75. Most of them who share their bike for the trip have a duration time of 2000 and below, while those who don't share the bike has a higher duration time of 3000 and below. Most of the male gender don't share the bike.<br>\n",
    "> The female in other hand have a age range of 18 to 75 but this is more dominant for those who don't share their bike as compared to those that share.Those who don't share their bike for the trip are also observed to have a higher duration time of about 2500 as compared to 1500 for those who share the bike. Most famale don't share their bikes also.<br>\n",
    "> For the others, most of them are between the age of 18 to 60. Those who don't share their bike are also the greatest in number. Those who share their bike take a less duration time compared to those who don't."
   ]
  },
  {
   "cell_type": "markdown",
   "metadata": {},
   "source": [
    "**what is the relationship of customer with members gender and the bike share for the trip**"
   ]
  },
  {
   "cell_type": "code",
   "execution_count": 44,
   "metadata": {},
   "outputs": [
    {
     "name": "stderr",
     "output_type": "stream",
     "text": [
      "C:\\ProgramData\\Anaconda3\\lib\\site-packages\\seaborn\\axisgrid.py:316: UserWarning: The `size` parameter has been renamed to `height`; please update your code.\n",
      "  warnings.warn(msg, UserWarning)\n"
     ]
    },
    {
     "data": {
      "text/plain": [
       "<seaborn.axisgrid.FacetGrid at 0x20a04e83d30>"
      ]
     },
     "execution_count": 44,
     "metadata": {},
     "output_type": "execute_result"
    },
    {
     "data": {
      "image/png": "[encoded data removed]",
      "text/plain": [
       "<Figure size 648x216 with 3 Axes>"
      ]
     },
     "metadata": {
      "needs_background": "light"
     },
     "output_type": "display_data"
    }
   ],
   "source": [
    "g = sb.FacetGrid(data = customer , col = 'member_gender', row = 'bike_share_for_all_trip', size = 3,\n",
    "                margin_titles = True)\n",
    "g.map(plt.scatter, 'member_age', 'duration_sec')"
   ]
  },
  {
   "cell_type": "markdown",
   "metadata": {},
   "source": [
    "> All of the customer don't share their bike for the trip. The male and the female genders are the dominant with most of them in the age range of 18 to 75. The male take a more duration time compared to the rest of the genders followed by the female and lsalty the others. Most of the others are between a age range of 18 to 50 taking less duration time for the trip."
   ]
  },
  {
   "cell_type": "markdown",
   "metadata": {},
   "source": [
    "**Were there any interesting or surprising interactions between features?**\n",
    "> There are no customer who share their bike for the trip "
   ]
  },
  {
   "cell_type": "markdown",
   "metadata": {},
   "source": [
    "## Conclusions\n",
    "The data analysied consist of 183412 members of the service for month of February of 2019 in in a bike-sharing system covering the greater San Francisco Bay area. Out of the total number, 8,265 bikers were dropped due to missing member_birth_year and member_gender. Also, for this date analysis, only duration time of 61 to 4,000 was dealt with thus, leaving the data to consist of 173,947 bikers. This analysis is mostly interested in figuring out what features have a relationship to the period the trip takes. It is expected that duration will have a relationship with the member_gender, user_type, member_birth_year and bike_share_for_all_trip.<br>\n",
    "Duration had a long-tailed distribution, with a lot of bikers on taking on the low duration end and few on the high duration end. When plotted on a log-scale, the duration distribution is bimodal, with the highest peak between 400 and 800. Most of the members are between the age of 20 and 40 years. Most of the bikers in the dataset are subscribers (91%) while only 9% are customer. Males are the dominant gender in the dataset followed by female while the others male uo the least number of biker.There was no much bike share through the trip. The data was grouped in terms of ages; Old,Adult, Teen to help ease up visualization. With most of the members between the age of 25 to 50, it is expected that most of the members are teen followed by adults and the old make up the least number of members.<br>\n",
    "For the distribution of the duration in terms of the age groups show that majority of the population didn't have a high duration time; mostly on the 500 to 1000 sec. Those with high duration time can be termed as Young population. The old take the lowest duration time but also there are few old members in the data. This is the same case for bike share for the trip where Teen age member don't share the bike the most followed by adult then the old. However, in terms of proportion to the total number of age groups, most of the old age members share the bike during the trip followed by the teen and lastly the adult members. This is the reverse for members who don't share the bike with adults not sharing the biker for the trip followed by teen, while the old share don't share the bike the least.<br>\n",
    "Most of all the age groups are subscribers while a few are customer,with teen having the highest number of customers and subscribers followed by adult and the old lastly. Out of the 157,928 subscribers , 11% share bike while 89% don't share bikes. However, 100% of the customer don't share the bike for all trip. The male gender dominate for the subscribers followed by female while the others make the least percent which is the same for customers. This in mostly as a results of having  the male gender high numbers as compared to the other genders with most of the male gender high in numbers for the teen age group followed by adult and lastly the old. Female gender falls in as second for all the age groups while the others make up the least. Also, Most of the subscribers are male followed by female while the others make up the least number of subscribers.<br>\n",
    "As observed earlier, the old have the least number of members who didn't share the bike for the trip. Most of this members are between the age of 60 to 80 with a duration time of between 18 to 2000 sec. They are mostly composed of subscribers as expected and less customers with both Customers and subscribers mostly sharing the same position; in the age range of 60 to 80 and time duration of 18 to 2000.<br>\n",
    "Most of the males have a age range of 18 to 75 with most of them who share their bike for the trip have a duration time of 2000 and below, while those who don't share the bike has a higher duration time of 3000 and below. Most of them don't share the bike.<br>\n",
    "The female in other hand have a age range of 18 to 75 but this is more dominant for those who don't share their bike as compared to those that share.Those who don't share their bike for the trip are also observed to have a higher duration time of about 2500 as compared to 1500 for those who share the bike. Most famale don't share their bikes also. For the others, most of them are between the age of 18 to 60. Those who don't share their bike are also the greatest in number. Those who share their bike take a less duration time compared to those who don't.<br>\n",
    "With the customer not sharing their bike for the trip the male and the female genders are the dominant with most of them in the age range of 18 to 75. The male take a more duration time compared to the rest of the genders followed by the female and lasalty the others. Most of the others are between a age range of 18 to 50 taking less duration time for the trip."
   ]
  }
 ],
 "metadata": {
  "kernelspec": {
   "display_name": "Python 3",
   "language": "python",
   "name": "python3"
  },
  "language_info": {
   "codemirror_mode": {
    "name": "ipython",
    "version": 3
   },
   "file_extension": ".py",
   "mimetype": "text/x-python",
   "name": "python",
   "nbconvert_exporter": "python",
   "pygments_lexer": "ipython3",
   "version": "3.8.8"
  }
 },
 "nbformat": 4,
 "nbformat_minor": 2
}
